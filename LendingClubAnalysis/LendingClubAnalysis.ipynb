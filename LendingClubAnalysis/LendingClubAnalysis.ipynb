{
 "cells": [
  {
   "cell_type": "markdown",
   "metadata": {},
   "source": [
    "# Lending Club Analysis Assignment"
   ]
  },
  {
   "cell_type": "markdown",
   "metadata": {},
   "source": [
    "#### Submitted by: \n",
    "#### 1. Kiran Gupta\n",
    "#### 2. Parama Bhattacharya"
   ]
  },
  {
   "cell_type": "code",
   "execution_count": 8,
   "metadata": {},
   "outputs": [],
   "source": [
    "# Import all libraries\n",
    "import numpy as np\n",
    "import pandas as pd\n",
    "import datetime\n",
    "import matplotlib.pyplot as plt\n",
    "import seaborn as sns\n",
    "\n",
    "# Supress Warnings\n",
    "import warnings\n",
    "warnings.filterwarnings('ignore')"
   ]
  },
  {
   "cell_type": "code",
   "execution_count": 9,
   "metadata": {},
   "outputs": [
    {
     "name": "stdout",
     "output_type": "stream",
     "text": [
      "<class 'pandas.core.frame.DataFrame'>\n",
      "RangeIndex: 39717 entries, 0 to 39716\n",
      "Columns: 111 entries, id to total_il_high_credit_limit\n",
      "dtypes: float64(74), int64(13), object(24)\n",
      "memory usage: 30.0+ MB\n"
     ]
    }
   ],
   "source": [
    "# Using encoding = \"ISO-8859-1\" to read the loan data file \"loan.csv\"\n",
    "loan_df = pd.read_csv('loan.csv',sep=',',encoding='ISO-8859-1',low_memory=False)\n",
    "loan_df.info()"
   ]
  },
  {
   "cell_type": "markdown",
   "metadata": {},
   "source": [
    "#### Assignment Introduction:"
   ]
  },
  {
   "cell_type": "markdown",
   "metadata": {},
   "source": [
    "You work for a consumer finance company which specialises in lending various types of loans to urban customers. When the company receives a loan application, the company has to make a decision for loan approval based on the applicant’s profile. Two types of risks are associated with the bank’s decision:\n",
    "1. If the applicant is likely to repay the loan, then not approving the loan results in a loss of business to the company\n",
    "2. If the applicant is not likely to repay the loan, i.e. he/she is likely to default, then approving the loan may lead to a financial loss for the company"
   ]
  },
  {
   "cell_type": "markdown",
   "metadata": {},
   "source": [
    "<h4>Business Objective: </h4>\n",
    "\n",
    "<h5>Loan accepted:</h5> If the company approves the loan, there are 3 possible scenarios described below:\n",
    "\n",
    "<h5>Fully paid:</h5> Applicant has fully paid the loan (the principal and the interest rate)\n",
    "\n",
    "<h5>Current:</h5> Applicant is in the process of paying the instalments, i.e. the tenure of the loan is not yet completed. These candidates are not labelled as 'defaulted'.\n",
    "\n",
    "<h5>Charged-off: </h5> Applicant has not paid the instalments in due time for a long period of time, i.e. he/she has defaulted on the loan \n",
    "\n",
    "<h5>Loan rejected: </h5> The company had rejected the loan (because the candidate does not meet their requirements etc.). Since the loan was rejected, there is no transactional history of those applicants with the company and so this data is not available with the company (and thus in this dataset)\n"
   ]
  },
  {
   "cell_type": "markdown",
   "metadata": {},
   "source": [
    "#### Data Cleansing"
   ]
  },
  {
   "cell_type": "code",
   "execution_count": 10,
   "metadata": {
    "collapsed": false
   },
   "outputs": [
    {
     "data": {
      "text/plain": [
       "(39717, 111)"
      ]
     },
     "execution_count": 10,
     "metadata": {},
     "output_type": "execute_result"
    }
   ],
   "source": [
    "# Sum of missing values per column\n",
    "loan_df.shape"
   ]
  },
  {
   "cell_type": "code",
   "execution_count": 11,
   "metadata": {
    "collapsed": false
   },
   "outputs": [
    {
     "data": {
      "text/plain": [
       "Index(['mths_since_last_major_derog', 'annual_inc_joint', 'dti_joint',\n",
       "       'verification_status_joint', 'tot_coll_amt', 'tot_cur_bal',\n",
       "       'open_acc_6m', 'open_il_6m', 'open_il_12m', 'open_il_24m',\n",
       "       'mths_since_rcnt_il', 'total_bal_il', 'il_util', 'open_rv_12m',\n",
       "       'open_rv_24m', 'max_bal_bc', 'all_util', 'total_rev_hi_lim', 'inq_fi',\n",
       "       'total_cu_tl', 'inq_last_12m', 'acc_open_past_24mths', 'avg_cur_bal',\n",
       "       'bc_open_to_buy', 'bc_util', 'mo_sin_old_il_acct',\n",
       "       'mo_sin_old_rev_tl_op', 'mo_sin_rcnt_rev_tl_op', 'mo_sin_rcnt_tl',\n",
       "       'mort_acc', 'mths_since_recent_bc', 'mths_since_recent_bc_dlq',\n",
       "       'mths_since_recent_inq', 'mths_since_recent_revol_delinq',\n",
       "       'num_accts_ever_120_pd', 'num_actv_bc_tl', 'num_actv_rev_tl',\n",
       "       'num_bc_sats', 'num_bc_tl', 'num_il_tl', 'num_op_rev_tl',\n",
       "       'num_rev_accts', 'num_rev_tl_bal_gt_0', 'num_sats', 'num_tl_120dpd_2m',\n",
       "       'num_tl_30dpd', 'num_tl_90g_dpd_24m', 'num_tl_op_past_12m',\n",
       "       'pct_tl_nvr_dlq', 'percent_bc_gt_75', 'tot_hi_cred_lim',\n",
       "       'total_bal_ex_mort', 'total_bc_limit', 'total_il_high_credit_limit'],\n",
       "      dtype='object')"
      ]
     },
     "execution_count": 11,
     "metadata": {},
     "output_type": "execute_result"
    }
   ],
   "source": [
    "# Find the percentage of missing values in each column\n",
    "missing_value_columns = loan_df.columns[100*(loan_df.isnull().sum()/len(loan_df.index)) >= 100]\n",
    "missing_value_columns"
   ]
  },
  {
   "cell_type": "code",
   "execution_count": 12,
   "metadata": {
    "collapsed": false
   },
   "outputs": [
    {
     "data": {
      "text/html": [
       "<div>\n",
       "<style scoped>\n",
       "    .dataframe tbody tr th:only-of-type {\n",
       "        vertical-align: middle;\n",
       "    }\n",
       "\n",
       "    .dataframe tbody tr th {\n",
       "        vertical-align: top;\n",
       "    }\n",
       "\n",
       "    .dataframe thead th {\n",
       "        text-align: right;\n",
       "    }\n",
       "</style>\n",
       "<table border=\"1\" class=\"dataframe\">\n",
       "  <thead>\n",
       "    <tr style=\"text-align: right;\">\n",
       "      <th></th>\n",
       "      <th>id</th>\n",
       "      <th>member_id</th>\n",
       "      <th>loan_amnt</th>\n",
       "      <th>funded_amnt</th>\n",
       "      <th>funded_amnt_inv</th>\n",
       "      <th>term</th>\n",
       "      <th>int_rate</th>\n",
       "      <th>installment</th>\n",
       "      <th>grade</th>\n",
       "      <th>sub_grade</th>\n",
       "      <th>...</th>\n",
       "      <th>num_tl_90g_dpd_24m</th>\n",
       "      <th>num_tl_op_past_12m</th>\n",
       "      <th>pct_tl_nvr_dlq</th>\n",
       "      <th>percent_bc_gt_75</th>\n",
       "      <th>pub_rec_bankruptcies</th>\n",
       "      <th>tax_liens</th>\n",
       "      <th>tot_hi_cred_lim</th>\n",
       "      <th>total_bal_ex_mort</th>\n",
       "      <th>total_bc_limit</th>\n",
       "      <th>total_il_high_credit_limit</th>\n",
       "    </tr>\n",
       "  </thead>\n",
       "  <tbody>\n",
       "    <tr>\n",
       "      <th>0</th>\n",
       "      <td>1077501</td>\n",
       "      <td>1296599</td>\n",
       "      <td>5000</td>\n",
       "      <td>5000</td>\n",
       "      <td>4975.0</td>\n",
       "      <td>36 months</td>\n",
       "      <td>10.65%</td>\n",
       "      <td>162.87</td>\n",
       "      <td>B</td>\n",
       "      <td>B2</td>\n",
       "      <td>...</td>\n",
       "      <td>NaN</td>\n",
       "      <td>NaN</td>\n",
       "      <td>NaN</td>\n",
       "      <td>NaN</td>\n",
       "      <td>0.0</td>\n",
       "      <td>0.0</td>\n",
       "      <td>NaN</td>\n",
       "      <td>NaN</td>\n",
       "      <td>NaN</td>\n",
       "      <td>NaN</td>\n",
       "    </tr>\n",
       "    <tr>\n",
       "      <th>1</th>\n",
       "      <td>1077430</td>\n",
       "      <td>1314167</td>\n",
       "      <td>2500</td>\n",
       "      <td>2500</td>\n",
       "      <td>2500.0</td>\n",
       "      <td>60 months</td>\n",
       "      <td>15.27%</td>\n",
       "      <td>59.83</td>\n",
       "      <td>C</td>\n",
       "      <td>C4</td>\n",
       "      <td>...</td>\n",
       "      <td>NaN</td>\n",
       "      <td>NaN</td>\n",
       "      <td>NaN</td>\n",
       "      <td>NaN</td>\n",
       "      <td>0.0</td>\n",
       "      <td>0.0</td>\n",
       "      <td>NaN</td>\n",
       "      <td>NaN</td>\n",
       "      <td>NaN</td>\n",
       "      <td>NaN</td>\n",
       "    </tr>\n",
       "    <tr>\n",
       "      <th>2</th>\n",
       "      <td>1077175</td>\n",
       "      <td>1313524</td>\n",
       "      <td>2400</td>\n",
       "      <td>2400</td>\n",
       "      <td>2400.0</td>\n",
       "      <td>36 months</td>\n",
       "      <td>15.96%</td>\n",
       "      <td>84.33</td>\n",
       "      <td>C</td>\n",
       "      <td>C5</td>\n",
       "      <td>...</td>\n",
       "      <td>NaN</td>\n",
       "      <td>NaN</td>\n",
       "      <td>NaN</td>\n",
       "      <td>NaN</td>\n",
       "      <td>0.0</td>\n",
       "      <td>0.0</td>\n",
       "      <td>NaN</td>\n",
       "      <td>NaN</td>\n",
       "      <td>NaN</td>\n",
       "      <td>NaN</td>\n",
       "    </tr>\n",
       "    <tr>\n",
       "      <th>3</th>\n",
       "      <td>1076863</td>\n",
       "      <td>1277178</td>\n",
       "      <td>10000</td>\n",
       "      <td>10000</td>\n",
       "      <td>10000.0</td>\n",
       "      <td>36 months</td>\n",
       "      <td>13.49%</td>\n",
       "      <td>339.31</td>\n",
       "      <td>C</td>\n",
       "      <td>C1</td>\n",
       "      <td>...</td>\n",
       "      <td>NaN</td>\n",
       "      <td>NaN</td>\n",
       "      <td>NaN</td>\n",
       "      <td>NaN</td>\n",
       "      <td>0.0</td>\n",
       "      <td>0.0</td>\n",
       "      <td>NaN</td>\n",
       "      <td>NaN</td>\n",
       "      <td>NaN</td>\n",
       "      <td>NaN</td>\n",
       "    </tr>\n",
       "    <tr>\n",
       "      <th>4</th>\n",
       "      <td>1075358</td>\n",
       "      <td>1311748</td>\n",
       "      <td>3000</td>\n",
       "      <td>3000</td>\n",
       "      <td>3000.0</td>\n",
       "      <td>60 months</td>\n",
       "      <td>12.69%</td>\n",
       "      <td>67.79</td>\n",
       "      <td>B</td>\n",
       "      <td>B5</td>\n",
       "      <td>...</td>\n",
       "      <td>NaN</td>\n",
       "      <td>NaN</td>\n",
       "      <td>NaN</td>\n",
       "      <td>NaN</td>\n",
       "      <td>0.0</td>\n",
       "      <td>0.0</td>\n",
       "      <td>NaN</td>\n",
       "      <td>NaN</td>\n",
       "      <td>NaN</td>\n",
       "      <td>NaN</td>\n",
       "    </tr>\n",
       "  </tbody>\n",
       "</table>\n",
       "<p>5 rows × 111 columns</p>\n",
       "</div>"
      ],
      "text/plain": [
       "        id  member_id  loan_amnt  funded_amnt  funded_amnt_inv        term  \\\n",
       "0  1077501    1296599       5000         5000           4975.0   36 months   \n",
       "1  1077430    1314167       2500         2500           2500.0   60 months   \n",
       "2  1077175    1313524       2400         2400           2400.0   36 months   \n",
       "3  1076863    1277178      10000        10000          10000.0   36 months   \n",
       "4  1075358    1311748       3000         3000           3000.0   60 months   \n",
       "\n",
       "  int_rate  installment grade sub_grade            ...              \\\n",
       "0   10.65%       162.87     B        B2            ...               \n",
       "1   15.27%        59.83     C        C4            ...               \n",
       "2   15.96%        84.33     C        C5            ...               \n",
       "3   13.49%       339.31     C        C1            ...               \n",
       "4   12.69%        67.79     B        B5            ...               \n",
       "\n",
       "  num_tl_90g_dpd_24m num_tl_op_past_12m pct_tl_nvr_dlq  percent_bc_gt_75  \\\n",
       "0                NaN                NaN            NaN               NaN   \n",
       "1                NaN                NaN            NaN               NaN   \n",
       "2                NaN                NaN            NaN               NaN   \n",
       "3                NaN                NaN            NaN               NaN   \n",
       "4                NaN                NaN            NaN               NaN   \n",
       "\n",
       "  pub_rec_bankruptcies tax_liens tot_hi_cred_lim total_bal_ex_mort  \\\n",
       "0                  0.0       0.0             NaN               NaN   \n",
       "1                  0.0       0.0             NaN               NaN   \n",
       "2                  0.0       0.0             NaN               NaN   \n",
       "3                  0.0       0.0             NaN               NaN   \n",
       "4                  0.0       0.0             NaN               NaN   \n",
       "\n",
       "  total_bc_limit total_il_high_credit_limit  \n",
       "0            NaN                        NaN  \n",
       "1            NaN                        NaN  \n",
       "2            NaN                        NaN  \n",
       "3            NaN                        NaN  \n",
       "4            NaN                        NaN  \n",
       "\n",
       "[5 rows x 111 columns]"
      ]
     },
     "execution_count": 12,
     "metadata": {},
     "output_type": "execute_result"
    }
   ],
   "source": [
    "# Take a backup of the existing dataframe before performing data cleansing activities\n",
    "loan_df_backup = loan_df\n",
    "loan_df_backup.head(5)"
   ]
  },
  {
   "cell_type": "markdown",
   "metadata": {},
   "source": [
    "#### Dropping of columns with missing values which are not required for the lending club analysis - Part 1"
   ]
  },
  {
   "cell_type": "code",
   "execution_count": 13,
   "metadata": {
    "collapsed": false
   },
   "outputs": [
    {
     "name": "stdout",
     "output_type": "stream",
     "text": [
      "Index(['mths_since_last_major_derog', 'annual_inc_joint', 'dti_joint',\n",
      "       'verification_status_joint', 'tot_coll_amt', 'tot_cur_bal',\n",
      "       'open_acc_6m', 'open_il_6m', 'open_il_12m', 'open_il_24m',\n",
      "       'mths_since_rcnt_il', 'total_bal_il', 'il_util', 'open_rv_12m',\n",
      "       'open_rv_24m', 'max_bal_bc', 'all_util', 'total_rev_hi_lim', 'inq_fi',\n",
      "       'total_cu_tl', 'inq_last_12m', 'acc_open_past_24mths', 'avg_cur_bal',\n",
      "       'bc_open_to_buy', 'bc_util', 'mo_sin_old_il_acct',\n",
      "       'mo_sin_old_rev_tl_op', 'mo_sin_rcnt_rev_tl_op', 'mo_sin_rcnt_tl',\n",
      "       'mort_acc', 'mths_since_recent_bc', 'mths_since_recent_bc_dlq',\n",
      "       'mths_since_recent_inq', 'mths_since_recent_revol_delinq',\n",
      "       'num_accts_ever_120_pd', 'num_actv_bc_tl', 'num_actv_rev_tl',\n",
      "       'num_bc_sats', 'num_bc_tl', 'num_il_tl', 'num_op_rev_tl',\n",
      "       'num_rev_accts', 'num_rev_tl_bal_gt_0', 'num_sats', 'num_tl_120dpd_2m',\n",
      "       'num_tl_30dpd', 'num_tl_90g_dpd_24m', 'num_tl_op_past_12m',\n",
      "       'pct_tl_nvr_dlq', 'percent_bc_gt_75', 'tot_hi_cred_lim',\n",
      "       'total_bal_ex_mort', 'total_bc_limit', 'total_il_high_credit_limit'],\n",
      "      dtype='object')\n"
     ]
    }
   ],
   "source": [
    "# There are columns having 100 percentage of missing values. This are not required for our analysis and can be dropped.\n",
    "\n",
    "missing_value_columns = loan_df.columns[100*(loan_df.isnull().sum()/len(loan_df.index)) >= 100]\n",
    "print(missing_value_columns)"
   ]
  },
  {
   "cell_type": "code",
   "execution_count": 14,
   "metadata": {
    "collapsed": false
   },
   "outputs": [
    {
     "data": {
      "text/plain": [
       "emp_title                      6.19\n",
       "emp_length                     2.71\n",
       "desc                          32.58\n",
       "title                          0.03\n",
       "mths_since_last_delinq        64.66\n",
       "mths_since_last_record        92.99\n",
       "revol_util                     0.13\n",
       "last_pymnt_d                   0.18\n",
       "next_pymnt_d                  97.13\n",
       "last_credit_pull_d             0.01\n",
       "collections_12_mths_ex_med     0.14\n",
       "chargeoff_within_12_mths       0.14\n",
       "pub_rec_bankruptcies           1.75\n",
       "tax_liens                      0.10\n",
       "dtype: float64"
      ]
     },
     "execution_count": 14,
     "metadata": {},
     "output_type": "execute_result"
    }
   ],
   "source": [
    "# There are columns having 100 percentage of missing values. This are not required for our analysis and can be dropped.\n",
    "loan_df = loan_df.drop(missing_value_columns, axis=1)\n",
    "\n",
    "# Find the percentage of missing values in each column\n",
    "missing = round(100 * (loan_df.isnull().sum(axis = 0)/len(loan_df.index)), 2) \n",
    "missing[missing > 0]"
   ]
  },
  {
   "cell_type": "code",
   "execution_count": 15,
   "metadata": {
    "collapsed": false
   },
   "outputs": [
    {
     "data": {
      "text/plain": [
       "emp_title                      6.19\n",
       "emp_length                     2.71\n",
       "desc                          32.58\n",
       "title                          0.03\n",
       "mths_since_last_delinq        64.66\n",
       "revol_util                     0.13\n",
       "last_pymnt_d                   0.18\n",
       "last_credit_pull_d             0.01\n",
       "collections_12_mths_ex_med     0.14\n",
       "chargeoff_within_12_mths       0.14\n",
       "pub_rec_bankruptcies           1.75\n",
       "tax_liens                      0.10\n",
       "dtype: float64"
      ]
     },
     "execution_count": 15,
     "metadata": {},
     "output_type": "execute_result"
    }
   ],
   "source": [
    "# There is a column next_pymnt_d and mths_since_last_record having 97.13 and 92.99 percentage of missing values. These are not required for our analysis and can be dropped.\n",
    "\n",
    "loan_df = loan_df.drop('next_pymnt_d', axis = 1)\n",
    "loan_df = loan_df.drop('mths_since_last_record', axis = 1)\n",
    "\n",
    "# Find the percentage of missing values in each column\n",
    "missing_value = round(100 * (loan_df.isnull().sum(axis = 0)/len(loan_df.index)), 2) \n",
    "missing_value[missing_value > 0]"
   ]
  },
  {
   "cell_type": "code",
   "execution_count": 16,
   "metadata": {
    "collapsed": false
   },
   "outputs": [
    {
     "data": {
      "text/html": [
       "<div>\n",
       "<style scoped>\n",
       "    .dataframe tbody tr th:only-of-type {\n",
       "        vertical-align: middle;\n",
       "    }\n",
       "\n",
       "    .dataframe tbody tr th {\n",
       "        vertical-align: top;\n",
       "    }\n",
       "\n",
       "    .dataframe thead th {\n",
       "        text-align: right;\n",
       "    }\n",
       "</style>\n",
       "<table border=\"1\" class=\"dataframe\">\n",
       "  <thead>\n",
       "    <tr style=\"text-align: right;\">\n",
       "      <th></th>\n",
       "      <th>desc</th>\n",
       "      <th>mths_since_last_delinq</th>\n",
       "    </tr>\n",
       "  </thead>\n",
       "  <tbody>\n",
       "    <tr>\n",
       "      <th>0</th>\n",
       "      <td>Borrower added on 12/22/11 &gt; I need to upgra...</td>\n",
       "      <td>NaN</td>\n",
       "    </tr>\n",
       "    <tr>\n",
       "      <th>1</th>\n",
       "      <td>Borrower added on 12/22/11 &gt; I plan to use t...</td>\n",
       "      <td>NaN</td>\n",
       "    </tr>\n",
       "    <tr>\n",
       "      <th>2</th>\n",
       "      <td>NaN</td>\n",
       "      <td>NaN</td>\n",
       "    </tr>\n",
       "    <tr>\n",
       "      <th>3</th>\n",
       "      <td>Borrower added on 12/21/11 &gt; to pay for prop...</td>\n",
       "      <td>35.0</td>\n",
       "    </tr>\n",
       "    <tr>\n",
       "      <th>4</th>\n",
       "      <td>Borrower added on 12/21/11 &gt; I plan on combi...</td>\n",
       "      <td>38.0</td>\n",
       "    </tr>\n",
       "  </tbody>\n",
       "</table>\n",
       "</div>"
      ],
      "text/plain": [
       "                                                desc  mths_since_last_delinq\n",
       "0    Borrower added on 12/22/11 > I need to upgra...                     NaN\n",
       "1    Borrower added on 12/22/11 > I plan to use t...                     NaN\n",
       "2                                                NaN                     NaN\n",
       "3    Borrower added on 12/21/11 > to pay for prop...                    35.0\n",
       "4    Borrower added on 12/21/11 > I plan on combi...                    38.0"
      ]
     },
     "execution_count": 16,
     "metadata": {},
     "output_type": "execute_result"
    }
   ],
   "source": [
    "# There are 2 columns called \"desc\" and \"mths_since_last_delinq\" having 32.58% and 64.66% of missing values\n",
    "# Check for the values stored in these 2 columns\n",
    "\n",
    "loan_df.loc[:, ['desc', 'mths_since_last_delinq']].head(5)"
   ]
  },
  {
   "cell_type": "markdown",
   "metadata": {},
   "source": [
    "##### The column \"desc\" contains Loan description provided by the borrower. We can extract some information into a derived variable based on catchy negative/positive words within this but we will not be using this field for our analysis purpose. The column \"mths_since_last_delinq\" indicates the number of months since the borrower's last delinquency. We will also drop this column as it would not have any data when a person is applying for the loan. This means that it cannot be used to predict whether a person will fail to payoff the loan."
   ]
  },
  {
   "cell_type": "markdown",
   "metadata": {},
   "source": [
    "#### Dropping of rows which are not required for the lending club analysis - Part 2"
   ]
  },
  {
   "cell_type": "code",
   "execution_count": 17,
   "metadata": {
    "collapsed": false
   },
   "outputs": [],
   "source": [
    "# We will be dropping of these 2 columns called \"desc\" and \"mths_since_last_delinq\" having 32.58% and 64.66% of missing values\n",
    "loan_df = loan_df.drop('desc', axis = 1)\n",
    "loan_df = loan_df.drop('mths_since_last_delinq', axis = 1)"
   ]
  },
  {
   "cell_type": "code",
   "execution_count": 18,
   "metadata": {},
   "outputs": [
    {
     "data": {
      "text/plain": [
       "emp_title                     6.19\n",
       "emp_length                    2.71\n",
       "title                         0.03\n",
       "revol_util                    0.13\n",
       "last_pymnt_d                  0.18\n",
       "last_credit_pull_d            0.01\n",
       "collections_12_mths_ex_med    0.14\n",
       "chargeoff_within_12_mths      0.14\n",
       "pub_rec_bankruptcies          1.75\n",
       "tax_liens                     0.10\n",
       "dtype: float64"
      ]
     },
     "execution_count": 18,
     "metadata": {},
     "output_type": "execute_result"
    }
   ],
   "source": [
    "# Find the percentage of missing values in each column\n",
    "missing = round(100 * (loan_df.isnull().sum(axis = 0)/len(loan_df.index)), 2) \n",
    "missing[missing >0]"
   ]
  },
  {
   "cell_type": "markdown",
   "metadata": {},
   "source": [
    "<h5>emp_length: </h5>Employment length in years. Possible values are between 0 and 10 where 0 means less than one year and 10 means ten or more years. \n",
    "<h5>emp_title: </h5>The job title supplied by the Borrower when applying for the loan.*"
   ]
  },
  {
   "cell_type": "code",
   "execution_count": 19,
   "metadata": {
    "collapsed": false
   },
   "outputs": [
    {
     "data": {
      "text/plain": [
       "0"
      ]
     },
     "execution_count": 19,
     "metadata": {},
     "output_type": "execute_result"
    }
   ],
   "source": [
    "# Check if a row is having more than 5 missing values\n",
    "len(loan_df[loan_df.isnull().sum(axis=1) > 5].index)"
   ]
  },
  {
   "cell_type": "markdown",
   "metadata": {},
   "source": [
    "##### The columns \"emp_title\" and \"emp_length\" have 6.19% and 2.71% of missing values. Remove rows having null values."
   ]
  },
  {
   "cell_type": "code",
   "execution_count": 20,
   "metadata": {
    "collapsed": false
   },
   "outputs": [],
   "source": [
    "# Drop rows having null values for columns \"emp_title\" and \"emp_length\"\n",
    "\n",
    "loan_df = loan_df[~loan_df.emp_title.isnull()]\n",
    "loan_df = loan_df[~loan_df.emp_length.isnull()]"
   ]
  },
  {
   "cell_type": "markdown",
   "metadata": {},
   "source": [
    "##### The columns \"title\", \"revol_util\" and \"last_pymnt_d\" have .03%, 0.13% and 0.18% of missing values. \n",
    "##### Title is pladeholder for the title specified by the borrower' s during loan application\n",
    "##### Revol util is placeholder for Revolving line utilization rate, or the amount of credit the borrower is using relative to all available revolving credit.\n",
    "##### last_pymnt_d is placeholder for Last month payment was received\n",
    "##### Records having null values for these columns can also be deleted."
   ]
  },
  {
   "cell_type": "code",
   "execution_count": 21,
   "metadata": {
    "collapsed": false
   },
   "outputs": [],
   "source": [
    "# Dropping rows having null values for columns \"title\", \"revol_util\" and \"last_pymnt_d\"\n",
    "\n",
    "loan_df = loan_df[~loan_df.title.isnull()]\n",
    "loan_df = loan_df[~loan_df.revol_util.isnull()]\n",
    "loan_df = loan_df[~loan_df.last_pymnt_d.isnull()]"
   ]
  },
  {
   "cell_type": "code",
   "execution_count": 22,
   "metadata": {
    "collapsed": false
   },
   "outputs": [
    {
     "data": {
      "text/plain": [
       "collections_12_mths_ex_med    0.13\n",
       "chargeoff_within_12_mths      0.13\n",
       "pub_rec_bankruptcies          1.76\n",
       "tax_liens                     0.09\n",
       "dtype: float64"
      ]
     },
     "execution_count": 22,
     "metadata": {},
     "output_type": "execute_result"
    }
   ],
   "source": [
    "# Find the percentage of missing values in each column\n",
    "missing = round(100 * (loan_df.isnull().sum(axis = 0)/len(loan_df.index)), 2) \n",
    "missing[missing >0]"
   ]
  },
  {
   "cell_type": "markdown",
   "metadata": {},
   "source": [
    "##### The columns \"pub_rec_bankruptcies\" have 1.76% of missing values.\n",
    "##### pub_rec_bankruptcies is pladeholder for Number of public record bankruptcies\n",
    "##### Records having null values for this column can also be deleted."
   ]
  },
  {
   "cell_type": "code",
   "execution_count": 23,
   "metadata": {
    "collapsed": false
   },
   "outputs": [],
   "source": [
    "# Drop rows having null values for column \"pub_rec_bankruptcies\"\n",
    "\n",
    "loan_df = loan_df[~loan_df.pub_rec_bankruptcies.isnull()]"
   ]
  },
  {
   "cell_type": "code",
   "execution_count": 24,
   "metadata": {
    "collapsed": false
   },
   "outputs": [
    {
     "data": {
      "text/plain": [
       "(36433, 53)"
      ]
     },
     "execution_count": 24,
     "metadata": {},
     "output_type": "execute_result"
    }
   ],
   "source": [
    "loan_df.shape"
   ]
  },
  {
   "cell_type": "markdown",
   "metadata": {},
   "source": [
    "##### Now our loan dataframe consists of 53 columns and 36433 records with a negligible .13% missing values in the columns \"collections_12_mths_ex_med\" and \"chargeoff_within_12_mths\""
   ]
  },
  {
   "cell_type": "code",
   "execution_count": 25,
   "metadata": {
    "collapsed": false
   },
   "outputs": [
    {
     "data": {
      "text/plain": [
       "Index(['id', 'member_id', 'loan_amnt', 'funded_amnt', 'funded_amnt_inv',\n",
       "       'term', 'int_rate', 'installment', 'grade', 'sub_grade', 'emp_title',\n",
       "       'emp_length', 'home_ownership', 'annual_inc', 'verification_status',\n",
       "       'issue_d', 'loan_status', 'pymnt_plan', 'url', 'purpose', 'title',\n",
       "       'zip_code', 'addr_state', 'dti', 'delinq_2yrs', 'earliest_cr_line',\n",
       "       'inq_last_6mths', 'open_acc', 'pub_rec', 'revol_bal', 'revol_util',\n",
       "       'total_acc', 'initial_list_status', 'out_prncp', 'out_prncp_inv',\n",
       "       'total_pymnt', 'total_pymnt_inv', 'total_rec_prncp', 'total_rec_int',\n",
       "       'total_rec_late_fee', 'recoveries', 'collection_recovery_fee',\n",
       "       'last_pymnt_d', 'last_pymnt_amnt', 'last_credit_pull_d',\n",
       "       'collections_12_mths_ex_med', 'policy_code', 'application_type',\n",
       "       'acc_now_delinq', 'chargeoff_within_12_mths', 'delinq_amnt',\n",
       "       'pub_rec_bankruptcies', 'tax_liens'],\n",
       "      dtype='object')"
      ]
     },
     "execution_count": 25,
     "metadata": {},
     "output_type": "execute_result"
    }
   ],
   "source": [
    "# Check the columns available after dropping off unnecessary columns\n",
    "loan_df.columns"
   ]
  },
  {
   "cell_type": "markdown",
   "metadata": {},
   "source": [
    "##### Some of the columns whuch are important for our analysis are loan_amount, int_rate, grade, sub_grade, annual_income, home_ownership, purpose. We have to compare the loan status across these independent variables. The objective is to basically identify the variables that is contributing to loan default."
   ]
  },
  {
   "cell_type": "markdown",
   "metadata": {},
   "source": [
    "#### Data transaformation and removal of unnecessary columns and data which are not required for our analysis - Part 3"
   ]
  },
  {
   "cell_type": "code",
   "execution_count": 26,
   "metadata": {
    "collapsed": false
   },
   "outputs": [
    {
     "name": "stdout",
     "output_type": "stream",
     "text": [
      "<class 'pandas.core.frame.DataFrame'>\n",
      "Int64Index: 36433 entries, 1 to 39680\n",
      "Data columns (total 53 columns):\n",
      "id                            36433 non-null int64\n",
      "member_id                     36433 non-null int64\n",
      "loan_amnt                     36433 non-null int64\n",
      "funded_amnt                   36433 non-null int64\n",
      "funded_amnt_inv               36433 non-null float64\n",
      "term                          36433 non-null object\n",
      "int_rate                      36433 non-null object\n",
      "installment                   36433 non-null float64\n",
      "grade                         36433 non-null object\n",
      "sub_grade                     36433 non-null object\n",
      "emp_title                     36433 non-null object\n",
      "emp_length                    36433 non-null object\n",
      "home_ownership                36433 non-null object\n",
      "annual_inc                    36433 non-null float64\n",
      "verification_status           36433 non-null object\n",
      "issue_d                       36433 non-null object\n",
      "loan_status                   36433 non-null object\n",
      "pymnt_plan                    36433 non-null object\n",
      "url                           36433 non-null object\n",
      "purpose                       36433 non-null object\n",
      "title                         36433 non-null object\n",
      "zip_code                      36433 non-null object\n",
      "addr_state                    36433 non-null object\n",
      "dti                           36433 non-null float64\n",
      "delinq_2yrs                   36433 non-null int64\n",
      "earliest_cr_line              36433 non-null object\n",
      "inq_last_6mths                36433 non-null int64\n",
      "open_acc                      36433 non-null int64\n",
      "pub_rec                       36433 non-null int64\n",
      "revol_bal                     36433 non-null int64\n",
      "revol_util                    36433 non-null object\n",
      "total_acc                     36433 non-null int64\n",
      "initial_list_status           36433 non-null object\n",
      "out_prncp                     36433 non-null float64\n",
      "out_prncp_inv                 36433 non-null float64\n",
      "total_pymnt                   36433 non-null float64\n",
      "total_pymnt_inv               36433 non-null float64\n",
      "total_rec_prncp               36433 non-null float64\n",
      "total_rec_int                 36433 non-null float64\n",
      "total_rec_late_fee            36433 non-null float64\n",
      "recoveries                    36433 non-null float64\n",
      "collection_recovery_fee       36433 non-null float64\n",
      "last_pymnt_d                  36433 non-null object\n",
      "last_pymnt_amnt               36433 non-null float64\n",
      "last_credit_pull_d            36433 non-null object\n",
      "collections_12_mths_ex_med    36431 non-null float64\n",
      "policy_code                   36433 non-null int64\n",
      "application_type              36433 non-null object\n",
      "acc_now_delinq                36433 non-null int64\n",
      "chargeoff_within_12_mths      36431 non-null float64\n",
      "delinq_amnt                   36433 non-null int64\n",
      "pub_rec_bankruptcies          36433 non-null float64\n",
      "tax_liens                     36433 non-null float64\n",
      "dtypes: float64(18), int64(13), object(22)\n",
      "memory usage: 12.0+ MB\n"
     ]
    }
   ],
   "source": [
    "# Check the datatype of each column to see whether any conversion is required or not\n",
    "loan_df.info()"
   ]
  },
  {
   "cell_type": "code",
   "execution_count": 27,
   "metadata": {
    "collapsed": false
   },
   "outputs": [
    {
     "name": "stdout",
     "output_type": "stream",
     "text": [
      "<class 'pandas.core.frame.DataFrame'>\n",
      "Int64Index: 36433 entries, 1 to 39680\n",
      "Data columns (total 53 columns):\n",
      "id                            36433 non-null int64\n",
      "member_id                     36433 non-null int64\n",
      "loan_amnt                     36433 non-null int64\n",
      "funded_amnt                   36433 non-null int64\n",
      "funded_amnt_inv               36433 non-null float64\n",
      "term                          36433 non-null object\n",
      "int_rate                      36433 non-null object\n",
      "installment                   36433 non-null float64\n",
      "grade                         36433 non-null object\n",
      "sub_grade                     36433 non-null object\n",
      "emp_title                     36433 non-null object\n",
      "emp_length                    36433 non-null object\n",
      "home_ownership                36433 non-null object\n",
      "annual_inc                    36433 non-null float64\n",
      "verification_status           36433 non-null object\n",
      "issue_d                       36433 non-null object\n",
      "loan_status                   36433 non-null object\n",
      "pymnt_plan                    36433 non-null object\n",
      "url                           36433 non-null object\n",
      "purpose                       36433 non-null object\n",
      "title                         36433 non-null object\n",
      "zip_code                      36433 non-null object\n",
      "addr_state                    36433 non-null object\n",
      "dti                           36433 non-null float64\n",
      "delinq_2yrs                   36433 non-null int64\n",
      "earliest_cr_line              36433 non-null object\n",
      "inq_last_6mths                36433 non-null int64\n",
      "open_acc                      36433 non-null int64\n",
      "pub_rec                       36433 non-null int64\n",
      "revol_bal                     36433 non-null int64\n",
      "revol_util                    36433 non-null object\n",
      "total_acc                     36433 non-null int64\n",
      "initial_list_status           36433 non-null object\n",
      "out_prncp                     36433 non-null float64\n",
      "out_prncp_inv                 36433 non-null float64\n",
      "total_pymnt                   36433 non-null float64\n",
      "total_pymnt_inv               36433 non-null float64\n",
      "total_rec_prncp               36433 non-null float64\n",
      "total_rec_int                 36433 non-null float64\n",
      "total_rec_late_fee            36433 non-null float64\n",
      "recoveries                    36433 non-null float64\n",
      "collection_recovery_fee       36433 non-null float64\n",
      "last_pymnt_d                  36433 non-null object\n",
      "last_pymnt_amnt               36433 non-null float64\n",
      "last_credit_pull_d            36433 non-null object\n",
      "collections_12_mths_ex_med    36431 non-null float64\n",
      "policy_code                   36433 non-null int64\n",
      "application_type              36433 non-null object\n",
      "acc_now_delinq                36433 non-null int64\n",
      "chargeoff_within_12_mths      36431 non-null float64\n",
      "delinq_amnt                   36433 non-null int64\n",
      "pub_rec_bankruptcies          36433 non-null float64\n",
      "tax_liens                     36433 non-null float64\n",
      "dtypes: float64(18), int64(13), object(22)\n",
      "memory usage: 12.0+ MB\n"
     ]
    }
   ],
   "source": [
    "# Revalidate the data types\n",
    "loan_df.info()"
   ]
  },
  {
   "cell_type": "code",
   "execution_count": 28,
   "metadata": {
    "collapsed": false
   },
   "outputs": [
    {
     "name": "stdout",
     "output_type": "stream",
     "text": [
      "unique term : 2\n",
      "unique int_rate : 334\n",
      "unique grade : 7\n",
      "unique sub_grade : 35\n",
      "unique emp_title : 28207\n",
      "unique emp_length : 11\n",
      "unique home_ownership : 4\n",
      "unique pymnt_plan : 1\n",
      "unique dti : 2857\n",
      "unique revol_util : 1082\n",
      "unique title : 17954\n",
      "unique last_pymnt_d : 97\n",
      "unique last_credit_pull_d : 96\n",
      "unique collections_12_mths_ex_med : 2\n",
      "unique chargeoff_within_12_mths : 2\n",
      "unique pub_rec_bankruptcies : 3\n",
      "unique tax_liens : 1\n"
     ]
    }
   ],
   "source": [
    "# Check for the unique values in some of the key columns\n",
    "\n",
    "print(\"unique term : %d\"  % len(loan_df.term.unique()))\n",
    "print(\"unique int_rate : %d\"  % len(loan_df.int_rate.unique()))\n",
    "print(\"unique grade : %d\"  % len(loan_df.grade.unique()))\n",
    "print(\"unique sub_grade : %d\"  % len(loan_df.sub_grade.unique()))\n",
    "print(\"unique emp_title : %d\"  % len(loan_df.emp_title.unique()))\n",
    "print(\"unique emp_length : %d\"  % len(loan_df.emp_length.unique()))\n",
    "print(\"unique home_ownership : %d\"  % len(loan_df.home_ownership.unique()))\n",
    "print(\"unique pymnt_plan : %d\"  % len(loan_df.pymnt_plan.unique()))\n",
    "print(\"unique dti : %d\"  % len(loan_df.dti.unique()))\n",
    "print(\"unique revol_util : %d\"  % len(loan_df.revol_util.unique()))\n",
    "print(\"unique title : %d\"  % len(loan_df.title.unique()))\n",
    "print(\"unique last_pymnt_d : %d\"  % len(loan_df.last_pymnt_d.unique()))\n",
    "print(\"unique last_credit_pull_d : %d\"  % len(loan_df.last_credit_pull_d.unique()))\n",
    "print(\"unique collections_12_mths_ex_med : %d\"  % len(loan_df.collections_12_mths_ex_med.unique()))\n",
    "print(\"unique chargeoff_within_12_mths : %d\"  % len(loan_df.chargeoff_within_12_mths.unique()))\n",
    "print(\"unique pub_rec_bankruptcies : %d\"  % len(loan_df.pub_rec_bankruptcies.unique()))\n",
    "print(\"unique tax_liens : %d\"  % len(loan_df.tax_liens.unique()))"
   ]
  },
  {
   "cell_type": "markdown",
   "metadata": {},
   "source": [
    "##### Columns term, grade, emp_length, pymnt_plan, home_ownership, collections_12_mths_ex_med, chargeoff_within_12_mths, pub_rec_bankruptcies and tax_liens are categorical and values definitely will belong to a range. "
   ]
  },
  {
   "cell_type": "code",
   "execution_count": 29,
   "metadata": {
    "collapsed": false
   },
   "outputs": [
    {
     "data": {
      "text/plain": [
       "array([' 60 months', ' 36 months'], dtype=object)"
      ]
     },
     "execution_count": 29,
     "metadata": {},
     "output_type": "execute_result"
    }
   ],
   "source": [
    "loan_df.term.unique()"
   ]
  },
  {
   "cell_type": "code",
   "execution_count": 30,
   "metadata": {
    "collapsed": false
   },
   "outputs": [
    {
     "data": {
      "text/plain": [
       "array(['C', 'B', 'A', 'E', 'D', 'F', 'G'], dtype=object)"
      ]
     },
     "execution_count": 30,
     "metadata": {},
     "output_type": "execute_result"
    }
   ],
   "source": [
    "loan_df.grade.unique()"
   ]
  },
  {
   "cell_type": "code",
   "execution_count": 31,
   "metadata": {
    "collapsed": false
   },
   "outputs": [
    {
     "data": {
      "text/plain": [
       "array(['C4', 'C1', 'B5', 'A4', 'C5', 'E1', 'C3', 'B1', 'B2', 'D1', 'A1',\n",
       "       'B3', 'B4', 'D2', 'A5', 'A3', 'A2', 'E4', 'D3', 'C2', 'F2', 'D4',\n",
       "       'F3', 'E3', 'F4', 'F1', 'D5', 'E5', 'G4', 'E2', 'G3', 'G2', 'G1',\n",
       "       'F5', 'G5'], dtype=object)"
      ]
     },
     "execution_count": 31,
     "metadata": {},
     "output_type": "execute_result"
    }
   ],
   "source": [
    "loan_df.sub_grade.unique()"
   ]
  },
  {
   "cell_type": "code",
   "execution_count": 32,
   "metadata": {
    "collapsed": false
   },
   "outputs": [
    {
     "data": {
      "text/plain": [
       "array(['< 1 year', '10+ years', '1 year', '3 years', '8 years', '9 years',\n",
       "       '5 years', '4 years', '6 years', '2 years', '7 years'],\n",
       "      dtype=object)"
      ]
     },
     "execution_count": 32,
     "metadata": {},
     "output_type": "execute_result"
    }
   ],
   "source": [
    "loan_df.emp_length.unique()"
   ]
  },
  {
   "cell_type": "code",
   "execution_count": 33,
   "metadata": {
    "collapsed": false
   },
   "outputs": [
    {
     "data": {
      "text/plain": [
       "array(['RENT', 'OWN', 'MORTGAGE', 'OTHER'], dtype=object)"
      ]
     },
     "execution_count": 33,
     "metadata": {},
     "output_type": "execute_result"
    }
   ],
   "source": [
    "loan_df.home_ownership.unique()"
   ]
  },
  {
   "cell_type": "code",
   "execution_count": 34,
   "metadata": {
    "collapsed": false
   },
   "outputs": [
    {
     "data": {
      "text/plain": [
       "array(['n'], dtype=object)"
      ]
     },
     "execution_count": 34,
     "metadata": {},
     "output_type": "execute_result"
    }
   ],
   "source": [
    "loan_df.pymnt_plan.unique()"
   ]
  },
  {
   "cell_type": "code",
   "execution_count": 35,
   "metadata": {
    "collapsed": false
   },
   "outputs": [
    {
     "data": {
      "text/plain": [
       "array([ 0., nan])"
      ]
     },
     "execution_count": 35,
     "metadata": {},
     "output_type": "execute_result"
    }
   ],
   "source": [
    "loan_df.collections_12_mths_ex_med.unique()"
   ]
  },
  {
   "cell_type": "code",
   "execution_count": 36,
   "metadata": {
    "collapsed": false
   },
   "outputs": [
    {
     "data": {
      "text/plain": [
       "array([ 0., nan])"
      ]
     },
     "execution_count": 36,
     "metadata": {},
     "output_type": "execute_result"
    }
   ],
   "source": [
    "loan_df.chargeoff_within_12_mths.unique()"
   ]
  },
  {
   "cell_type": "code",
   "execution_count": 37,
   "metadata": {
    "collapsed": false
   },
   "outputs": [
    {
     "data": {
      "text/plain": [
       "array([0., 1., 2.])"
      ]
     },
     "execution_count": 37,
     "metadata": {},
     "output_type": "execute_result"
    }
   ],
   "source": [
    "loan_df.pub_rec_bankruptcies.unique()"
   ]
  },
  {
   "cell_type": "code",
   "execution_count": 38,
   "metadata": {
    "collapsed": false
   },
   "outputs": [
    {
     "data": {
      "text/plain": [
       "array([0.])"
      ]
     },
     "execution_count": 38,
     "metadata": {},
     "output_type": "execute_result"
    }
   ],
   "source": [
    "loan_df.tax_liens.unique()"
   ]
  },
  {
   "cell_type": "markdown",
   "metadata": {},
   "source": [
    "##### The columns \"collections_12_mths_ex_med\", \"chargeoff_within_12_mths\" and \"tax_liens\" has either value of 0 or nan. These values would not have any impact on the analysis and can be dropped off."
   ]
  },
  {
   "cell_type": "code",
   "execution_count": 39,
   "metadata": {
    "collapsed": false
   },
   "outputs": [
    {
     "data": {
      "text/plain": [
       "Series([], dtype: float64)"
      ]
     },
     "execution_count": 39,
     "metadata": {},
     "output_type": "execute_result"
    }
   ],
   "source": [
    "# Dropping of the columns \"collections_12_mths_ex_med\", \"chargeoff_within_12_mths\" and \"tax_liens\"\n",
    "\n",
    "loan_df = loan_df.drop('collections_12_mths_ex_med', axis = 1)\n",
    "loan_df = loan_df.drop('chargeoff_within_12_mths', axis = 1)\n",
    "loan_df = loan_df.drop('tax_liens', axis = 1)\n",
    "\n",
    "# Find the percentage of missing values in each column having greater than zero\n",
    "missing = round(100 * (loan_df.isnull().sum(axis = 0)/len(loan_df.index)), 2) \n",
    "missing[missing >0]"
   ]
  },
  {
   "cell_type": "code",
   "execution_count": 40,
   "metadata": {
    "collapsed": false
   },
   "outputs": [
    {
     "data": {
      "text/plain": [
       "(36433, 50)"
      ]
     },
     "execution_count": 40,
     "metadata": {},
     "output_type": "execute_result"
    }
   ],
   "source": [
    "loan_df.shape"
   ]
  },
  {
   "cell_type": "markdown",
   "metadata": {},
   "source": [
    "##### Now our loan dataframe consists of 50 columns and 36433 records without any missing values."
   ]
  },
  {
   "cell_type": "markdown",
   "metadata": {},
   "source": [
    "#### Final cleansing to remove all information except the ones required for analysis - Part 4"
   ]
  },
  {
   "cell_type": "code",
   "execution_count": 41,
   "metadata": {
    "collapsed": false
   },
   "outputs": [
    {
     "data": {
      "text/plain": [
       "(36433, 50)"
      ]
     },
     "execution_count": 41,
     "metadata": {},
     "output_type": "execute_result"
    }
   ],
   "source": [
    "loan_df_final = loan_df\n",
    "loan_df_final.shape"
   ]
  },
  {
   "cell_type": "code",
   "execution_count": 42,
   "metadata": {
    "collapsed": false
   },
   "outputs": [
    {
     "data": {
      "text/plain": [
       "id                         36433\n",
       "member_id                  36433\n",
       "loan_amnt                    863\n",
       "funded_amnt                 1024\n",
       "funded_amnt_inv             7474\n",
       "term                           2\n",
       "int_rate                     334\n",
       "installment                14367\n",
       "grade                          7\n",
       "sub_grade                     35\n",
       "emp_title                  28207\n",
       "emp_length                    11\n",
       "home_ownership                 4\n",
       "annual_inc                  4924\n",
       "verification_status            3\n",
       "issue_d                       52\n",
       "loan_status                    3\n",
       "pymnt_plan                     1\n",
       "url                        36433\n",
       "purpose                       14\n",
       "title                      17954\n",
       "zip_code                     806\n",
       "addr_state                    49\n",
       "dti                         2857\n",
       "delinq_2yrs                   11\n",
       "earliest_cr_line             510\n",
       "inq_last_6mths                 9\n",
       "open_acc                      38\n",
       "pub_rec                        5\n",
       "revol_bal                  20790\n",
       "revol_util                  1082\n",
       "total_acc                     79\n",
       "initial_list_status            1\n",
       "out_prncp                   1064\n",
       "out_prncp_inv               1065\n",
       "total_pymnt                34802\n",
       "total_pymnt_inv            34524\n",
       "total_rec_prncp             7254\n",
       "total_rec_int              32523\n",
       "total_rec_late_fee          1194\n",
       "recoveries                  3585\n",
       "collection_recovery_fee     2386\n",
       "last_pymnt_d                  97\n",
       "last_pymnt_amnt            32467\n",
       "last_credit_pull_d            96\n",
       "policy_code                    1\n",
       "application_type               1\n",
       "acc_now_delinq                 1\n",
       "delinq_amnt                    1\n",
       "pub_rec_bankruptcies           3\n",
       "dtype: int64"
      ]
     },
     "execution_count": 42,
     "metadata": {},
     "output_type": "execute_result"
    }
   ],
   "source": [
    "loan_df_final.nunique()"
   ]
  },
  {
   "cell_type": "markdown",
   "metadata": {},
   "source": [
    "##### There are a few columns having all unique values. This means that these records can be discarded as they do not seem to help us in our analysis and some of the columns contain redundant information."
   ]
  },
  {
   "cell_type": "code",
   "execution_count": 43,
   "metadata": {
    "collapsed": false
   },
   "outputs": [
    {
     "data": {
      "text/plain": [
       "array(['f'], dtype=object)"
      ]
     },
     "execution_count": 43,
     "metadata": {},
     "output_type": "execute_result"
    }
   ],
   "source": [
    "loan_df_final.initial_list_status.unique()"
   ]
  },
  {
   "cell_type": "code",
   "execution_count": 44,
   "metadata": {
    "collapsed": false
   },
   "outputs": [
    {
     "data": {
      "text/plain": [
       "array([1], dtype=int64)"
      ]
     },
     "execution_count": 44,
     "metadata": {},
     "output_type": "execute_result"
    }
   ],
   "source": [
    "loan_df_final.policy_code.unique()"
   ]
  },
  {
   "cell_type": "code",
   "execution_count": 45,
   "metadata": {
    "collapsed": false
   },
   "outputs": [
    {
     "data": {
      "text/plain": [
       "array(['INDIVIDUAL'], dtype=object)"
      ]
     },
     "execution_count": 45,
     "metadata": {},
     "output_type": "execute_result"
    }
   ],
   "source": [
    "loan_df_final.application_type.unique()"
   ]
  },
  {
   "cell_type": "code",
   "execution_count": 46,
   "metadata": {
    "collapsed": false
   },
   "outputs": [
    {
     "data": {
      "text/plain": [
       "array([0], dtype=int64)"
      ]
     },
     "execution_count": 46,
     "metadata": {},
     "output_type": "execute_result"
    }
   ],
   "source": [
    "loan_df_final.acc_now_delinq.unique()"
   ]
  },
  {
   "cell_type": "code",
   "execution_count": 47,
   "metadata": {
    "collapsed": false
   },
   "outputs": [
    {
     "data": {
      "text/plain": [
       "array([0], dtype=int64)"
      ]
     },
     "execution_count": 47,
     "metadata": {},
     "output_type": "execute_result"
    }
   ],
   "source": [
    "loan_df_final.delinq_amnt.unique()"
   ]
  },
  {
   "cell_type": "markdown",
   "metadata": {},
   "source": [
    "##### There are a few columns having only a single value across all the records This means that these records can be discarded as thye do not seem to help us in our analysis. And some of the columns contain redundant information.\n",
    "\n",
    "<h5>These columns are: </h5>\n",
    "##### Id - This is a placeholder for a unique LC assigned ID for the loan listing. This is not required for our analysis.\n",
    "##### member_id - This is a placeholder for a unique LC assigned ID for the borrower member. This is not required for our analysis.\n",
    "##### url - This is a placeholder for a URL for the LC page with listing data. This is not required for our analysis.\n",
    "##### funded_amnt - This is a placeholder for the total amount committed to that loan at that point in time. This is not known while applying for loan and hence can be discarded.\n",
    "##### funded_amnt_inv - This is a placeholder for the total amount committed by investors for that loan at that point in time. This is not known while applying for loan and hence can be discarded.\n",
    "##### pymnt_plan - This Indicates if a payment plan has been put in place for the loan. The value is 'n' for entire data set.\n",
    "##### zip_code - This column is placeholder for the first 3 numbers of the zip code provided by the borrower in the loan application. Redundant with addr_state. This can be discarded as well.\n",
    "##### initial_list_status - This is a placeholder for the initial listing status of the loan. This is not required for our analysis as value is 'F' for all records.\n",
    "##### policy_code - This is a placeholder for publicly available policy_code. This is not required for our analysis as value is 1 for all records.\n",
    "##### application_type - This indicates whether the loan is an individual application or a joint application with two co-borrowers. This is not required for our analysis as the value is 'INDIVIDUAL' for all records.\n",
    "##### acc_now_delinq - This is a placeholder for the number of accounts on which the borrower is now delinquent. This is not known while applying for loan and hence can be discarded.\n",
    "##### delinq_amnt - This is a placeholder for the past-due amount owed for the accounts on which the borrower is now delinquent. This is not known while applying for loan and hence can be discarded.\n"
   ]
  },
  {
   "cell_type": "code",
   "execution_count": 48,
   "metadata": {
    "collapsed": false
   },
   "outputs": [
    {
     "data": {
      "text/plain": [
       "loan_amnt                    863\n",
       "term                           2\n",
       "int_rate                     334\n",
       "installment                14367\n",
       "grade                          7\n",
       "sub_grade                     35\n",
       "emp_title                  28207\n",
       "emp_length                    11\n",
       "home_ownership                 4\n",
       "annual_inc                  4924\n",
       "verification_status            3\n",
       "issue_d                       52\n",
       "loan_status                    3\n",
       "purpose                       14\n",
       "title                      17954\n",
       "addr_state                    49\n",
       "dti                         2857\n",
       "delinq_2yrs                   11\n",
       "earliest_cr_line             510\n",
       "inq_last_6mths                 9\n",
       "open_acc                      38\n",
       "pub_rec                        5\n",
       "revol_bal                  20790\n",
       "revol_util                  1082\n",
       "total_acc                     79\n",
       "out_prncp                   1064\n",
       "out_prncp_inv               1065\n",
       "total_pymnt                34802\n",
       "total_pymnt_inv            34524\n",
       "total_rec_prncp             7254\n",
       "total_rec_int              32523\n",
       "total_rec_late_fee          1194\n",
       "recoveries                  3585\n",
       "collection_recovery_fee     2386\n",
       "last_pymnt_d                  97\n",
       "last_pymnt_amnt            32467\n",
       "last_credit_pull_d            96\n",
       "pub_rec_bankruptcies           3\n",
       "dtype: int64"
      ]
     },
     "execution_count": 48,
     "metadata": {},
     "output_type": "execute_result"
    }
   ],
   "source": [
    "columns_for_removal = ['id','member_id','url','funded_amnt','funded_amnt_inv','pymnt_plan','zip_code',\n",
    "                      'initial_list_status','policy_code','application_type','acc_now_delinq','delinq_amnt']\n",
    "loan_df_final = loan_df_final.drop(columns_for_removal, axis=1)\n",
    "loan_df_final.nunique()"
   ]
  },
  {
   "cell_type": "code",
   "execution_count": 49,
   "metadata": {
    "collapsed": false
   },
   "outputs": [
    {
     "data": {
      "text/plain": [
       "(36433, 38)"
      ]
     },
     "execution_count": 49,
     "metadata": {},
     "output_type": "execute_result"
    }
   ],
   "source": [
    "loan_df_final.shape"
   ]
  },
  {
   "cell_type": "markdown",
   "metadata": {},
   "source": [
    "#### Data Formatting"
   ]
  },
  {
   "cell_type": "code",
   "execution_count": 50,
   "metadata": {
    "collapsed": false
   },
   "outputs": [
    {
     "name": "stdout",
     "output_type": "stream",
     "text": [
      "<class 'pandas.core.frame.DataFrame'>\n",
      "Int64Index: 36433 entries, 1 to 39680\n",
      "Data columns (total 38 columns):\n",
      "loan_amnt                  36433 non-null int64\n",
      "term                       36433 non-null object\n",
      "int_rate                   36433 non-null object\n",
      "installment                36433 non-null float64\n",
      "grade                      36433 non-null object\n",
      "sub_grade                  36433 non-null object\n",
      "emp_title                  36433 non-null object\n",
      "emp_length                 36433 non-null object\n",
      "home_ownership             36433 non-null object\n",
      "annual_inc                 36433 non-null float64\n",
      "verification_status        36433 non-null object\n",
      "issue_d                    36433 non-null object\n",
      "loan_status                36433 non-null object\n",
      "purpose                    36433 non-null object\n",
      "title                      36433 non-null object\n",
      "addr_state                 36433 non-null object\n",
      "dti                        36433 non-null float64\n",
      "delinq_2yrs                36433 non-null int64\n",
      "earliest_cr_line           36433 non-null object\n",
      "inq_last_6mths             36433 non-null int64\n",
      "open_acc                   36433 non-null int64\n",
      "pub_rec                    36433 non-null int64\n",
      "revol_bal                  36433 non-null int64\n",
      "revol_util                 36433 non-null object\n",
      "total_acc                  36433 non-null int64\n",
      "out_prncp                  36433 non-null float64\n",
      "out_prncp_inv              36433 non-null float64\n",
      "total_pymnt                36433 non-null float64\n",
      "total_pymnt_inv            36433 non-null float64\n",
      "total_rec_prncp            36433 non-null float64\n",
      "total_rec_int              36433 non-null float64\n",
      "total_rec_late_fee         36433 non-null float64\n",
      "recoveries                 36433 non-null float64\n",
      "collection_recovery_fee    36433 non-null float64\n",
      "last_pymnt_d               36433 non-null object\n",
      "last_pymnt_amnt            36433 non-null float64\n",
      "last_credit_pull_d         36433 non-null object\n",
      "pub_rec_bankruptcies       36433 non-null float64\n",
      "dtypes: float64(14), int64(7), object(17)\n",
      "memory usage: 8.5+ MB\n"
     ]
    }
   ],
   "source": [
    "# Check for the columns having float datatypes in order to check the number of digits after decomal point\n",
    "loan_df_final.info()"
   ]
  },
  {
   "cell_type": "code",
   "execution_count": 51,
   "metadata": {
    "collapsed": false
   },
   "outputs": [
    {
     "data": {
      "text/plain": [
       "12.49%    1\n",
       "11.22%    1\n",
       "9.51%     1\n",
       "10.64%    1\n",
       "17.54%    1\n",
       "Name: int_rate, dtype: int64"
      ]
     },
     "execution_count": 51,
     "metadata": {},
     "output_type": "execute_result"
    }
   ],
   "source": [
    "loan_df_final.int_rate.value_counts().tail()"
   ]
  },
  {
   "cell_type": "code",
   "execution_count": 52,
   "metadata": {
    "collapsed": false
   },
   "outputs": [
    {
     "data": {
      "text/plain": [
       "336.53    1\n",
       "863.42    1\n",
       "615.09    1\n",
       "375.66    1\n",
       "595.76    1\n",
       "Name: installment, dtype: int64"
      ]
     },
     "execution_count": 52,
     "metadata": {},
     "output_type": "execute_result"
    }
   ],
   "source": [
    "loan_df_final.installment.value_counts().tail()"
   ]
  },
  {
   "cell_type": "code",
   "execution_count": 53,
   "metadata": {
    "collapsed": false
   },
   "outputs": [
    {
     "data": {
      "text/plain": [
       "9840.00     1\n",
       "39359.00    1\n",
       "51646.00    1\n",
       "87700.00    1\n",
       "46443.36    1\n",
       "Name: annual_inc, dtype: int64"
      ]
     },
     "execution_count": 53,
     "metadata": {},
     "output_type": "execute_result"
    }
   ],
   "source": [
    "loan_df_final.annual_inc.value_counts().tail()"
   ]
  },
  {
   "cell_type": "code",
   "execution_count": 54,
   "metadata": {
    "collapsed": false
   },
   "outputs": [
    {
     "data": {
      "text/plain": [
       "27.23    1\n",
       "25.87    1\n",
       "26.94    1\n",
       "0.05     1\n",
       "29.21    1\n",
       "Name: dti, dtype: int64"
      ]
     },
     "execution_count": 54,
     "metadata": {},
     "output_type": "execute_result"
    }
   ],
   "source": [
    "loan_df_final.dti.value_counts().tail()"
   ]
  },
  {
   "cell_type": "code",
   "execution_count": 55,
   "metadata": {
    "collapsed": false
   },
   "outputs": [
    {
     "data": {
      "text/plain": [
       "4464.46    1\n",
       "2833.43    1\n",
       "1925.42    1\n",
       "1023.30    1\n",
       "914.11     1\n",
       "Name: out_prncp, dtype: int64"
      ]
     },
     "execution_count": 55,
     "metadata": {},
     "output_type": "execute_result"
    }
   ],
   "source": [
    "loan_df_final.out_prncp.value_counts().tail()"
   ]
  },
  {
   "cell_type": "code",
   "execution_count": 56,
   "metadata": {
    "collapsed": false
   },
   "outputs": [
    {
     "data": {
      "text/plain": [
       "584.28     1\n",
       "3547.11    1\n",
       "2139.90    1\n",
       "1887.01    1\n",
       "1228.61    1\n",
       "Name: out_prncp_inv, dtype: int64"
      ]
     },
     "execution_count": 56,
     "metadata": {},
     "output_type": "execute_result"
    }
   ],
   "source": [
    "loan_df_final.out_prncp_inv.value_counts().tail()"
   ]
  },
  {
   "cell_type": "code",
   "execution_count": 57,
   "metadata": {
    "collapsed": false
   },
   "outputs": [
    {
     "data": {
      "text/plain": [
       "5517.160000     1\n",
       "12878.238670    1\n",
       "4348.288927     1\n",
       "8954.809409     1\n",
       "4608.000000     1\n",
       "Name: total_pymnt, dtype: int64"
      ]
     },
     "execution_count": 57,
     "metadata": {},
     "output_type": "execute_result"
    }
   ],
   "source": [
    "loan_df_final.total_pymnt.value_counts().tail()"
   ]
  },
  {
   "cell_type": "markdown",
   "metadata": {},
   "source": [
    "##### Round it off to 2 decimal places."
   ]
  },
  {
   "cell_type": "code",
   "execution_count": 58,
   "metadata": {
    "collapsed": false
   },
   "outputs": [],
   "source": [
    "loan_df_final.total_pymnt= round(loan_df_final.total_pymnt,2)"
   ]
  },
  {
   "cell_type": "code",
   "execution_count": 59,
   "metadata": {
    "collapsed": false
   },
   "outputs": [
    {
     "data": {
      "text/plain": [
       "25433.98    1\n",
       "17678.14    1\n",
       "13785.89    1\n",
       "12251.54    1\n",
       "4608.00     1\n",
       "Name: total_pymnt_inv, dtype: int64"
      ]
     },
     "execution_count": 59,
     "metadata": {},
     "output_type": "execute_result"
    }
   ],
   "source": [
    "loan_df_final.total_pymnt_inv.value_counts().tail()"
   ]
  },
  {
   "cell_type": "code",
   "execution_count": 60,
   "metadata": {
    "collapsed": false
   },
   "outputs": [
    {
     "data": {
      "text/plain": [
       "14749.99    1\n",
       "2264.11     1\n",
       "1297.06     1\n",
       "1922.17     1\n",
       "6790.87     1\n",
       "Name: total_rec_prncp, dtype: int64"
      ]
     },
     "execution_count": 60,
     "metadata": {},
     "output_type": "execute_result"
    }
   ],
   "source": [
    "loan_df_final.total_rec_prncp.value_counts().tail()"
   ]
  },
  {
   "cell_type": "code",
   "execution_count": 61,
   "metadata": {
    "collapsed": false
   },
   "outputs": [
    {
     "data": {
      "text/plain": [
       "799.15     1\n",
       "144.49     1\n",
       "2927.16    1\n",
       "1241.14    1\n",
       "1276.31    1\n",
       "Name: total_rec_int, dtype: int64"
      ]
     },
     "execution_count": 61,
     "metadata": {},
     "output_type": "execute_result"
    }
   ],
   "source": [
    "loan_df_final.total_rec_int.value_counts().tail()"
   ]
  },
  {
   "cell_type": "code",
   "execution_count": 62,
   "metadata": {
    "collapsed": false
   },
   "outputs": [
    {
     "data": {
      "text/plain": [
       "29.914662    1\n",
       "23.820000    1\n",
       "15.610000    1\n",
       "59.781000    1\n",
       "14.944409    1\n",
       "Name: total_rec_late_fee, dtype: int64"
      ]
     },
     "execution_count": 62,
     "metadata": {},
     "output_type": "execute_result"
    }
   ],
   "source": [
    "loan_df_final.total_rec_late_fee.value_counts().tail()"
   ]
  },
  {
   "cell_type": "markdown",
   "metadata": {},
   "source": [
    "##### Rounding it off to 2 decimal places"
   ]
  },
  {
   "cell_type": "code",
   "execution_count": 63,
   "metadata": {
    "collapsed": false
   },
   "outputs": [],
   "source": [
    "loan_df_final.total_rec_late_fee = round(loan_df_final.total_rec_late_fee,2)"
   ]
  },
  {
   "cell_type": "code",
   "execution_count": 64,
   "metadata": {
    "collapsed": false
   },
   "outputs": [
    {
     "data": {
      "text/plain": [
       "321.76     1\n",
       "2563.40    1\n",
       "1573.14    1\n",
       "4007.50    1\n",
       "1842.51    1\n",
       "Name: recoveries, dtype: int64"
      ]
     },
     "execution_count": 64,
     "metadata": {},
     "output_type": "execute_result"
    }
   ],
   "source": [
    "loan_df_final.recoveries.value_counts().tail()"
   ]
  },
  {
   "cell_type": "code",
   "execution_count": 65,
   "metadata": {
    "collapsed": false
   },
   "outputs": [
    {
     "data": {
      "text/plain": [
       "18.3264     1\n",
       "198.4078    1\n",
       "9.6738      1\n",
       "33.2896     1\n",
       "93.3678     1\n",
       "Name: collection_recovery_fee, dtype: int64"
      ]
     },
     "execution_count": 65,
     "metadata": {},
     "output_type": "execute_result"
    }
   ],
   "source": [
    "loan_df_final.collection_recovery_fee.value_counts().tail()"
   ]
  },
  {
   "cell_type": "markdown",
   "metadata": {},
   "source": [
    "##### Rounding off to 2 decimal places"
   ]
  },
  {
   "cell_type": "code",
   "execution_count": 66,
   "metadata": {
    "collapsed": false
   },
   "outputs": [],
   "source": [
    "loan_df_final.collection_recovery_fee = round(loan_df_final.collection_recovery_fee, 2)"
   ]
  },
  {
   "cell_type": "code",
   "execution_count": 67,
   "metadata": {
    "collapsed": false
   },
   "outputs": [
    {
     "data": {
      "text/plain": [
       "168.55     1\n",
       "320.22     1\n",
       "271.02     1\n",
       "177.93     1\n",
       "1544.29    1\n",
       "Name: last_pymnt_amnt, dtype: int64"
      ]
     },
     "execution_count": 67,
     "metadata": {},
     "output_type": "execute_result"
    }
   ],
   "source": [
    "loan_df_final.last_pymnt_amnt.value_counts().tail()"
   ]
  },
  {
   "cell_type": "code",
   "execution_count": 68,
   "metadata": {
    "collapsed": false
   },
   "outputs": [
    {
     "data": {
      "text/plain": [
       "0.0    34931\n",
       "1.0     1495\n",
       "2.0        7\n",
       "Name: pub_rec_bankruptcies, dtype: int64"
      ]
     },
     "execution_count": 68,
     "metadata": {},
     "output_type": "execute_result"
    }
   ],
   "source": [
    "loan_df_final.pub_rec_bankruptcies.value_counts().tail()"
   ]
  },
  {
   "cell_type": "markdown",
   "metadata": {},
   "source": [
    "##### There are a few columns containing date type data but the datatype is \"Object\" instead of \"Datetime\". We need to convert the datatype of all those columns to \"Datetime\" for further analysis. The following columns need to be changed to \"Datetime\".\n",
    "##### issue_d\n",
    "##### earliest_cr_line\n",
    "##### last_pymnt_d\n",
    "##### last_credit_pull_d"
   ]
  },
  {
   "cell_type": "code",
   "execution_count": 69,
   "metadata": {
    "collapsed": false
   },
   "outputs": [
    {
     "name": "stdout",
     "output_type": "stream",
     "text": [
      "<class 'pandas.core.frame.DataFrame'>\n",
      "Int64Index: 36433 entries, 1 to 39680\n",
      "Data columns (total 4 columns):\n",
      "issue_d               36433 non-null object\n",
      "earliest_cr_line      36433 non-null object\n",
      "last_pymnt_d          36433 non-null object\n",
      "last_credit_pull_d    36433 non-null object\n",
      "dtypes: object(4)\n",
      "memory usage: 853.9+ KB\n"
     ]
    }
   ],
   "source": [
    "# Check the datatype of the columns which contain date information\n",
    "columns_tobe_converted = ['issue_d','earliest_cr_line','last_pymnt_d','last_credit_pull_d']\n",
    "loan_df_final[columns_tobe_converted].info()"
   ]
  },
  {
   "cell_type": "code",
   "execution_count": 70,
   "metadata": {
    "collapsed": false
   },
   "outputs": [],
   "source": [
    "#Convert the date type columns to datetime\n",
    "loan_df_final['issue_d'] = pd.to_datetime(loan_df_final['issue_d'], format='%b-%y')\n",
    "loan_df_final['earliest_cr_line'] = pd.to_datetime(loan_df_final['earliest_cr_line'], format='%b-%y')\n",
    "loan_df_final['last_pymnt_d'] = pd.to_datetime(loan_df_final['last_pymnt_d'], format='%b-%y')\n",
    "loan_df_final['last_credit_pull_d'] = pd.to_datetime(loan_df_final['last_credit_pull_d'], format='%b-%y')"
   ]
  },
  {
   "cell_type": "code",
   "execution_count": 71,
   "metadata": {
    "collapsed": false
   },
   "outputs": [
    {
     "name": "stdout",
     "output_type": "stream",
     "text": [
      "<class 'pandas.core.frame.DataFrame'>\n",
      "Int64Index: 36433 entries, 1 to 39680\n",
      "Data columns (total 4 columns):\n",
      "issue_d               36433 non-null datetime64[ns]\n",
      "earliest_cr_line      36433 non-null datetime64[ns]\n",
      "last_pymnt_d          36433 non-null datetime64[ns]\n",
      "last_credit_pull_d    36433 non-null datetime64[ns]\n",
      "dtypes: datetime64[ns](4)\n",
      "memory usage: 1.4 MB\n"
     ]
    }
   ],
   "source": [
    "# Check the datatype of the columns which contain date information\n",
    "columns_tobe_converted = ['issue_d','earliest_cr_line','last_pymnt_d','last_credit_pull_d']\n",
    "loan_df_final[columns_tobe_converted].info()"
   ]
  },
  {
   "cell_type": "markdown",
   "metadata": {},
   "source": [
    "##### The int_rate column contains floating values but the datatype is \"Object\" instead of \"Float\". We need to convert the datatype to float and strip off the %age at the end."
   ]
  },
  {
   "cell_type": "code",
   "execution_count": 72,
   "metadata": {
    "collapsed": false
   },
   "outputs": [
    {
     "data": {
      "text/plain": [
       "1        15.27\n",
       "3        13.49\n",
       "4        12.69\n",
       "5         7.90\n",
       "6        15.96\n",
       "7        18.64\n",
       "9        12.69\n",
       "10       14.65\n",
       "11       12.69\n",
       "12       13.49\n",
       "13        9.91\n",
       "14       10.65\n",
       "15       16.29\n",
       "16       15.27\n",
       "17        6.03\n",
       "18       11.71\n",
       "19        6.03\n",
       "20       15.27\n",
       "21       12.42\n",
       "22       11.71\n",
       "23       11.71\n",
       "24       11.71\n",
       "25        9.91\n",
       "27       16.77\n",
       "28       11.71\n",
       "29       11.71\n",
       "31        7.90\n",
       "32       15.96\n",
       "33        8.90\n",
       "34       15.96\n",
       "         ...  \n",
       "38995    10.39\n",
       "38996     8.63\n",
       "38997    12.29\n",
       "38998    11.97\n",
       "38999     9.76\n",
       "39000     9.45\n",
       "39001    11.34\n",
       "39002    12.29\n",
       "39003    10.39\n",
       "39013     9.76\n",
       "39052    13.24\n",
       "39084    11.97\n",
       "39138    10.71\n",
       "39216    12.92\n",
       "39220     9.76\n",
       "39251    13.55\n",
       "39288    10.46\n",
       "39291    13.93\n",
       "39346    10.78\n",
       "39348     9.51\n",
       "39362    10.78\n",
       "39425    12.36\n",
       "39430    13.30\n",
       "39433     9.83\n",
       "39475     9.01\n",
       "39551    10.91\n",
       "39562    10.28\n",
       "39623    12.49\n",
       "39666    11.22\n",
       "39680    11.86\n",
       "Name: int_rate, Length: 36433, dtype: float64"
      ]
     },
     "execution_count": 72,
     "metadata": {},
     "output_type": "execute_result"
    }
   ],
   "source": [
    "# Convert \"int_rate\" datatype from object to numeric\n",
    "\n",
    "loan_df_final['int_rate'] = loan_df_final['int_rate'].apply(lambda x: pd.to_numeric(x.split(\"%\")[0]))\n",
    "loan_df_final['int_rate']"
   ]
  },
  {
   "cell_type": "markdown",
   "metadata": {},
   "source": [
    "##### The revol_util column contains floating values but the datatype is \"Object\" instead of \"Float\". We need to convert the datatype to float and strip off the %age at the end."
   ]
  },
  {
   "cell_type": "code",
   "execution_count": 73,
   "metadata": {
    "collapsed": false
   },
   "outputs": [],
   "source": [
    "# Convert \"revol_util\" datatype from object to numeric\n",
    "\n",
    "loan_df_final['revol_util'] = loan_df_final['revol_util'].apply(lambda x: pd.to_numeric(x.split(\"%\")[0]))"
   ]
  },
  {
   "cell_type": "code",
   "execution_count": 74,
   "metadata": {
    "collapsed": false
   },
   "outputs": [
    {
     "name": "stdout",
     "output_type": "stream",
     "text": [
      "<class 'pandas.core.frame.DataFrame'>\n",
      "Int64Index: 36433 entries, 1 to 39680\n",
      "Data columns (total 2 columns):\n",
      "int_rate      36433 non-null float64\n",
      "revol_util    36433 non-null float64\n",
      "dtypes: float64(2)\n",
      "memory usage: 853.9 KB\n"
     ]
    }
   ],
   "source": [
    "loan_df_final[['int_rate','revol_util']].info()"
   ]
  },
  {
   "cell_type": "markdown",
   "metadata": {},
   "source": [
    "##### The emp_length column is of utmost importance as it contains the employment length in years. Possible values are between 0 and 10 where 0 means less than one year and 10 means ten or more years. Let us have a look at it."
   ]
  },
  {
   "cell_type": "code",
   "execution_count": 75,
   "metadata": {
    "collapsed": false
   },
   "outputs": [
    {
     "data": {
      "text/plain": [
       "10+ years    8407\n",
       "2 years      4178\n",
       "< 1 year     4052\n",
       "3 years      3914\n",
       "4 years      3297\n",
       "5 years      3129\n",
       "1 year       3026\n",
       "6 years      2121\n",
       "7 years      1697\n",
       "8 years      1405\n",
       "9 years      1207\n",
       "Name: emp_length, dtype: int64"
      ]
     },
     "execution_count": 75,
     "metadata": {},
     "output_type": "execute_result"
    }
   ],
   "source": [
    "loan_df_final['emp_length'].value_counts()"
   ]
  },
  {
   "cell_type": "markdown",
   "metadata": {},
   "source": [
    "##### Let us fetch the actual number of years from the string and convert it into numeric from object datatype"
   ]
  },
  {
   "cell_type": "code",
   "execution_count": 76,
   "metadata": {
    "collapsed": false
   },
   "outputs": [],
   "source": [
    "loan_df_final.emp_length[loan_df_final.emp_length.str.contains('< 1 year')] = '0 years'"
   ]
  },
  {
   "cell_type": "code",
   "execution_count": 77,
   "metadata": {
    "collapsed": false
   },
   "outputs": [],
   "source": [
    "loan_df_final.emp_length[loan_df_final.emp_length.str.contains('10')] = '10 years'"
   ]
  },
  {
   "cell_type": "code",
   "execution_count": 78,
   "metadata": {
    "collapsed": false
   },
   "outputs": [
    {
     "data": {
      "text/plain": [
       "10 years    8407\n",
       "2 years     4178\n",
       "0 years     4052\n",
       "3 years     3914\n",
       "4 years     3297\n",
       "5 years     3129\n",
       "1 year      3026\n",
       "6 years     2121\n",
       "7 years     1697\n",
       "8 years     1405\n",
       "9 years     1207\n",
       "Name: emp_length, dtype: int64"
      ]
     },
     "execution_count": 78,
     "metadata": {},
     "output_type": "execute_result"
    }
   ],
   "source": [
    "loan_df_final.emp_length.value_counts()"
   ]
  },
  {
   "cell_type": "code",
   "execution_count": 79,
   "metadata": {},
   "outputs": [],
   "source": [
    "loan_df_final.emp_length = loan_df_final.emp_length.str.strip('years')"
   ]
  },
  {
   "cell_type": "code",
   "execution_count": 80,
   "metadata": {},
   "outputs": [],
   "source": [
    "loan_df_final.emp_length = loan_df_final.emp_length.astype(int)"
   ]
  },
  {
   "cell_type": "markdown",
   "metadata": {},
   "source": [
    "##### The term column is used to store the number of payments on the loan. Values are in months and can be either 36 or 60. But if you see the actual data stored against this column, it is eitehr \"36 months\" or \"60 months\"."
   ]
  },
  {
   "cell_type": "code",
   "execution_count": 81,
   "metadata": {
    "collapsed": false
   },
   "outputs": [
    {
     "data": {
      "text/plain": [
       " 36 months    26377\n",
       " 60 months    10056\n",
       "Name: term, dtype: int64"
      ]
     },
     "execution_count": 81,
     "metadata": {},
     "output_type": "execute_result"
    }
   ],
   "source": [
    "loan_df_final.term.value_counts()"
   ]
  },
  {
   "cell_type": "markdown",
   "metadata": {},
   "source": [
    "##### Let us strip off the \"months\" from the end"
   ]
  },
  {
   "cell_type": "code",
   "execution_count": 82,
   "metadata": {
    "collapsed": false
   },
   "outputs": [],
   "source": [
    "loan_df_final['term'] = loan_df_final.term.str.strip('months')"
   ]
  },
  {
   "cell_type": "code",
   "execution_count": 83,
   "metadata": {
    "collapsed": false
   },
   "outputs": [
    {
     "data": {
      "text/plain": [
       " 36     26377\n",
       " 60     10056\n",
       "Name: term, dtype: int64"
      ]
     },
     "execution_count": 83,
     "metadata": {},
     "output_type": "execute_result"
    }
   ],
   "source": [
    "loan_df_final.term.value_counts()"
   ]
  },
  {
   "cell_type": "markdown",
   "metadata": {},
   "source": [
    "##### The column \"earliest_cr_line\" contains the month the borrower's earliest reported credit line was opened."
   ]
  },
  {
   "cell_type": "code",
   "execution_count": 84,
   "metadata": {
    "collapsed": false
   },
   "outputs": [
    {
     "data": {
      "text/plain": [
       "1998-11-01    353\n",
       "1999-10-01    348\n",
       "1998-12-01    327\n",
       "2000-10-01    320\n",
       "2000-11-01    301\n",
       "1999-11-01    298\n",
       "1997-12-01    295\n",
       "1997-11-01    282\n",
       "1998-10-01    281\n",
       "2000-09-01    278\n",
       "1999-12-01    273\n",
       "1995-12-01    268\n",
       "2000-01-01    266\n",
       "2000-12-01    264\n",
       "2000-07-01    260\n",
       "1996-12-01    252\n",
       "1996-11-01    251\n",
       "2000-08-01    251\n",
       "2001-09-01    250\n",
       "2002-10-01    249\n",
       "2001-10-01    248\n",
       "2000-05-01    242\n",
       "2000-04-01    242\n",
       "1999-09-01    241\n",
       "1998-08-01    237\n",
       "1999-08-01    232\n",
       "2003-10-01    231\n",
       "2001-01-01    229\n",
       "1999-01-01    229\n",
       "1997-10-01    226\n",
       "             ... \n",
       "2068-10-01      1\n",
       "2067-06-01      1\n",
       "2067-07-01      1\n",
       "2046-01-01      1\n",
       "2065-02-01      1\n",
       "1972-02-01      1\n",
       "1969-04-01      1\n",
       "2066-12-01      1\n",
       "1971-06-01      1\n",
       "2067-11-01      1\n",
       "1974-10-01      1\n",
       "2063-10-01      1\n",
       "1973-02-01      1\n",
       "2067-05-01      1\n",
       "2068-12-01      1\n",
       "2065-12-01      1\n",
       "2068-06-01      1\n",
       "2063-03-01      1\n",
       "2066-02-01      1\n",
       "2067-02-01      1\n",
       "1972-11-01      1\n",
       "2056-09-01      1\n",
       "1969-06-01      1\n",
       "2066-04-01      1\n",
       "1971-03-01      1\n",
       "2062-11-01      1\n",
       "1973-08-01      1\n",
       "1969-02-01      1\n",
       "1972-06-01      1\n",
       "2063-01-01      1\n",
       "Name: earliest_cr_line, Length: 510, dtype: int64"
      ]
     },
     "execution_count": 84,
     "metadata": {},
     "output_type": "execute_result"
    }
   ],
   "source": [
    "loan_df_final.earliest_cr_line.value_counts()"
   ]
  },
  {
   "cell_type": "markdown",
   "metadata": {},
   "source": [
    "##### Let us split the date column into earliest_cr_line_month and earliest_cr_line_year"
   ]
  },
  {
   "cell_type": "code",
   "execution_count": 85,
   "metadata": {
    "collapsed": false
   },
   "outputs": [],
   "source": [
    "# Splitting the datecolumn into month and year respectively\n",
    "loan_df_final['earliest_cr_line_month'] = loan_df_final['earliest_cr_line'].dt.month\n",
    "loan_df_final['earliest_cr_line_year'] = loan_df_final['earliest_cr_line'].dt.year"
   ]
  },
  {
   "cell_type": "markdown",
   "metadata": {},
   "source": [
    "##### This should contain data from 2007 till 2011. Let us validate whether it has any records which is beyond these 2 threshold values"
   ]
  },
  {
   "cell_type": "code",
   "execution_count": 86,
   "metadata": {
    "collapsed": false
   },
   "outputs": [
    {
     "data": {
      "text/plain": [
       "35571"
      ]
     },
     "execution_count": 86,
     "metadata": {},
     "output_type": "execute_result"
    }
   ],
   "source": [
    "# Check for number of records which are before 2007\n",
    "len(loan_df_final[loan_df_final['earliest_cr_line_year'] < 2007 ])"
   ]
  },
  {
   "cell_type": "code",
   "execution_count": 87,
   "metadata": {
    "collapsed": false
   },
   "outputs": [
    {
     "data": {
      "text/plain": [
       "50"
      ]
     },
     "execution_count": 87,
     "metadata": {},
     "output_type": "execute_result"
    }
   ],
   "source": [
    "# Check for number of records which are after 2011\n",
    "len(loan_df_final[loan_df_final['earliest_cr_line_year'] > 2011 ])"
   ]
  },
  {
   "cell_type": "markdown",
   "metadata": {},
   "source": [
    "##### Let us see for which all years the information is stored after 2011"
   ]
  },
  {
   "cell_type": "code",
   "execution_count": 88,
   "metadata": {
    "collapsed": false
   },
   "outputs": [
    {
     "data": {
      "text/plain": [
       "array([2068, 2067, 2065, 2063, 2066, 2062, 2056, 2046, 2050, 2064, 2054],\n",
       "      dtype=int64)"
      ]
     },
     "execution_count": 88,
     "metadata": {},
     "output_type": "execute_result"
    }
   ],
   "source": [
    "# Fetch the unique years beyond 2011 for which the column \"earliest_cr_line_year\" is having information\n",
    "loan_df_final[loan_df_final['earliest_cr_line_year'] > 2011 ]['earliest_cr_line_year'].unique()"
   ]
  },
  {
   "cell_type": "markdown",
   "metadata": {},
   "source": [
    "##### This is wrong information as it seems that 2-digit year have been wrongly interpreted as 21st centure instead of 20th century. Need to fix this by deducting 100 years from each one of them"
   ]
  },
  {
   "cell_type": "code",
   "execution_count": 89,
   "metadata": {
    "collapsed": false
   },
   "outputs": [],
   "source": [
    "# Deduct 100 years from all those years which are beyond 2011\n",
    "loan_df_final.loc[loan_df_final['earliest_cr_line_year'] > 2011 , 'earliest_cr_line_year'] = loan_df_final['earliest_cr_line_year'] - 100"
   ]
  },
  {
   "cell_type": "code",
   "execution_count": 90,
   "metadata": {
    "collapsed": false
   },
   "outputs": [
    {
     "data": {
      "text/plain": [
       "0"
      ]
     },
     "execution_count": 90,
     "metadata": {},
     "output_type": "execute_result"
    }
   ],
   "source": [
    "# Revalidate the number of records which are after 2011\n",
    "len(loan_df_final[loan_df_final['earliest_cr_line_year'] > 2011 ])"
   ]
  },
  {
   "cell_type": "markdown",
   "metadata": {},
   "source": [
    "##### The column \"issue_d\" contains the month in which the loan was funded."
   ]
  },
  {
   "cell_type": "code",
   "execution_count": 91,
   "metadata": {
    "collapsed": false
   },
   "outputs": [
    {
     "data": {
      "text/plain": [
       "2011-12-01    2126\n",
       "2011-11-01    2048\n",
       "2011-10-01    1951\n",
       "2011-09-01    1925\n",
       "2011-08-01    1810\n",
       "2011-07-01    1732\n",
       "2011-06-01    1702\n",
       "2011-05-01    1575\n",
       "2011-04-01    1463\n",
       "2011-03-01    1339\n",
       "2011-01-01    1299\n",
       "2011-02-01    1186\n",
       "2010-12-01    1174\n",
       "2010-11-01    1064\n",
       "2010-07-01    1062\n",
       "2010-10-01    1046\n",
       "2010-09-01    1030\n",
       "2010-08-01    1030\n",
       "2010-06-01     965\n",
       "2010-05-01     870\n",
       "2010-04-01     786\n",
       "2010-03-01     678\n",
       "2010-02-01     575\n",
       "2009-11-01     534\n",
       "2010-01-01     515\n",
       "2009-12-01     513\n",
       "2009-10-01     506\n",
       "2009-09-01     437\n",
       "2009-08-01     398\n",
       "2009-07-01     361\n",
       "2009-06-01     341\n",
       "2009-05-01     307\n",
       "2009-04-01     278\n",
       "2009-03-01     267\n",
       "2009-02-01     253\n",
       "2009-01-01     228\n",
       "2008-12-01     214\n",
       "2008-11-01     175\n",
       "2008-04-01     145\n",
       "2008-03-01     112\n",
       "2008-10-01      93\n",
       "2008-07-01      77\n",
       "2008-05-01      69\n",
       "2008-08-01      66\n",
       "2008-06-01      61\n",
       "2008-09-01      29\n",
       "2008-02-01       6\n",
       "2008-01-01       6\n",
       "2007-08-01       2\n",
       "2007-12-01       2\n",
       "2007-11-01       1\n",
       "2007-10-01       1\n",
       "Name: issue_d, dtype: int64"
      ]
     },
     "execution_count": 91,
     "metadata": {},
     "output_type": "execute_result"
    }
   ],
   "source": [
    "loan_df_final.issue_d.value_counts()"
   ]
  },
  {
   "cell_type": "markdown",
   "metadata": {},
   "source": [
    "##### Let us split the date column into \"issue_d_month\" and \"issue_d_year\""
   ]
  },
  {
   "cell_type": "code",
   "execution_count": 92,
   "metadata": {
    "collapsed": false
   },
   "outputs": [],
   "source": [
    "loan_df_final['issue_d_month'] = loan_df_final['issue_d'].dt.month\n",
    "loan_df_final['issue_d_year'] = loan_df_final['issue_d'].dt.year"
   ]
  },
  {
   "cell_type": "markdown",
   "metadata": {},
   "source": [
    "#### Data Analysis - Univariate analysis across categorical variables"
   ]
  },
  {
   "cell_type": "code",
   "execution_count": 93,
   "metadata": {},
   "outputs": [],
   "source": [
    "##Copy the final file in one CSV Dataset\n",
    "loan_df_final.to_csv('master_file.csv', encoding='utf-8', index=False)"
   ]
  },
  {
   "cell_type": "code",
   "execution_count": 94,
   "metadata": {},
   "outputs": [],
   "source": [
    "loan_df_univ = loan_df_final"
   ]
  },
  {
   "cell_type": "code",
   "execution_count": 174,
   "metadata": {
    "collapsed": false
   },
   "outputs": [
    {
     "data": {
      "text/plain": [
       "Fully Paid     30424\n",
       "Charged Off     4943\n",
       "Name: loan_status, dtype: int64"
      ]
     },
     "execution_count": 174,
     "metadata": {},
     "output_type": "execute_result"
    }
   ],
   "source": [
    "loan_df_final.loan_status.value_counts()"
   ]
  },
  {
   "cell_type": "code",
   "execution_count": 175,
   "metadata": {},
   "outputs": [],
   "source": [
    "# Discarding all rows except the ones for which the loan_status is either a)Fully Paid b)Charged Off\n",
    "loan_df_final = loan_df_final[(loan_df_final['loan_status'] == 'Fully Paid') | (loan_df_final['loan_status'] == 'Charged Off')]"
   ]
  },
  {
   "cell_type": "markdown",
   "metadata": {},
   "source": [
    "##### Most of the loans are \"Fully Paid\". The \"Current\" ones are neither fully paid nor defaulted. So we can get rid of this particular loan_status. Let us reset the values to 0 and 1.\n",
    "##### 0: Fully Paid\n",
    "##### 1: Charged Off"
   ]
  },
  {
   "cell_type": "code",
   "execution_count": 176,
   "metadata": {
    "collapsed": false
   },
   "outputs": [
    {
     "data": {
      "text/plain": [
       "0    30424\n",
       "1     6009\n",
       "Name: loan_status, dtype: int64"
      ]
     },
     "execution_count": 176,
     "metadata": {},
     "output_type": "execute_result"
    }
   ],
   "source": [
    "loan_df_univ['loan_status'].value_counts()"
   ]
  },
  {
   "cell_type": "markdown",
   "metadata": {},
   "source": [
    "#### Univariate Analysis"
   ]
  },
  {
   "cell_type": "code",
   "execution_count": 177,
   "metadata": {},
   "outputs": [],
   "source": [
    "#Function to show percentage in graph\n",
    "def percentage(ax):\n",
    "    for p in ax.patches:\n",
    "        width, height = p.get_width(), p.get_height()\n",
    "        x, y = p.get_xy() \n",
    "        height = round(height*100,2)\n",
    "        ax.annotate('{}'.format(height), (x, y + height + 0.01))"
   ]
  },
  {
   "cell_type": "code",
   "execution_count": 178,
   "metadata": {},
   "outputs": [
    {
     "data": {
      "image/png": "[encoded data removed]",
      "text/plain": [
       "<matplotlib.figure.Figure at 0xdafe570>"
      ]
     },
     "metadata": {},
     "output_type": "display_data"
    }
   ],
   "source": [
    "plt.figure(figsize=(5,5))\n",
    "ax = loan_df_final.groupby('loan_status').loan_amnt.count().plot.bar()\n",
    "for p in ax.patches:\n",
    "        width, height = p.get_width(), p.get_height()\n",
    "        x, y = p.get_xy() \n",
    "        ax.annotate(format(height), (x, y + height + 0.01))\n",
    "plt.xlabel('Loan Status')\n",
    "plt.ylabel('Count of Loan Amount')\n",
    "plt.show()"
   ]
  },
  {
   "cell_type": "code",
   "execution_count": 180,
   "metadata": {},
   "outputs": [
    {
     "ename": "TypeError",
     "evalue": "invalid type comparison",
     "output_type": "error",
     "traceback": [
      "\u001b[1;31m---------------------------------------------------------------------------\u001b[0m",
      "\u001b[1;31mTypeError\u001b[0m                                 Traceback (most recent call last)",
      "\u001b[1;32m<ipython-input-180-926d7d6243cd>\u001b[0m in \u001b[0;36m<module>\u001b[1;34m()\u001b[0m\n\u001b[0;32m      1\u001b[0m \u001b[1;31m# Find the % of Charged off Loan\u001b[0m\u001b[1;33m\u001b[0m\u001b[1;33m\u001b[0m\u001b[0m\n\u001b[1;32m----> 2\u001b[1;33m \u001b[0mCharged_off_loan\u001b[0m \u001b[1;33m=\u001b[0m\u001b[0mloan_df_univ\u001b[0m\u001b[1;33m.\u001b[0m\u001b[0mloc\u001b[0m\u001b[1;33m[\u001b[0m\u001b[0mloan_df_univ\u001b[0m\u001b[1;33m[\u001b[0m\u001b[1;34m'loan_status'\u001b[0m\u001b[1;33m]\u001b[0m \u001b[1;33m==\u001b[0m \u001b[1;34m'Charged Off'\u001b[0m\u001b[1;33m]\u001b[0m\u001b[1;33m.\u001b[0m\u001b[0mloan_status\u001b[0m\u001b[1;33m.\u001b[0m\u001b[0mcount\u001b[0m\u001b[1;33m(\u001b[0m\u001b[1;33m)\u001b[0m \u001b[1;33m*\u001b[0m \u001b[1;36m100\u001b[0m\u001b[1;33m/\u001b[0m\u001b[0mlen\u001b[0m\u001b[1;33m(\u001b[0m\u001b[0mloan_df_univ\u001b[0m\u001b[1;33m)\u001b[0m\u001b[1;33m\u001b[0m\u001b[0m\n\u001b[0m\u001b[0;32m      3\u001b[0m \u001b[0mround\u001b[0m\u001b[1;33m(\u001b[0m\u001b[0mCharged_off_loan\u001b[0m\u001b[1;33m,\u001b[0m\u001b[1;36m2\u001b[0m\u001b[1;33m)\u001b[0m\u001b[1;33m\u001b[0m\u001b[0m\n",
      "\u001b[1;32m~\\Anaconda3\\lib\\site-packages\\pandas\\core\\ops.py\u001b[0m in \u001b[0;36mwrapper\u001b[1;34m(self, other, axis)\u001b[0m\n\u001b[0;32m   1281\u001b[0m \u001b[1;33m\u001b[0m\u001b[0m\n\u001b[0;32m   1282\u001b[0m             \u001b[1;32mwith\u001b[0m \u001b[0mnp\u001b[0m\u001b[1;33m.\u001b[0m\u001b[0merrstate\u001b[0m\u001b[1;33m(\u001b[0m\u001b[0mall\u001b[0m\u001b[1;33m=\u001b[0m\u001b[1;34m'ignore'\u001b[0m\u001b[1;33m)\u001b[0m\u001b[1;33m:\u001b[0m\u001b[1;33m\u001b[0m\u001b[0m\n\u001b[1;32m-> 1283\u001b[1;33m                 \u001b[0mres\u001b[0m \u001b[1;33m=\u001b[0m \u001b[0mna_op\u001b[0m\u001b[1;33m(\u001b[0m\u001b[0mvalues\u001b[0m\u001b[1;33m,\u001b[0m \u001b[0mother\u001b[0m\u001b[1;33m)\u001b[0m\u001b[1;33m\u001b[0m\u001b[0m\n\u001b[0m\u001b[0;32m   1284\u001b[0m             \u001b[1;32mif\u001b[0m \u001b[0mis_scalar\u001b[0m\u001b[1;33m(\u001b[0m\u001b[0mres\u001b[0m\u001b[1;33m)\u001b[0m\u001b[1;33m:\u001b[0m\u001b[1;33m\u001b[0m\u001b[0m\n\u001b[0;32m   1285\u001b[0m                 raise TypeError('Could not compare {typ} type with Series'\n",
      "\u001b[1;32m~\\Anaconda3\\lib\\site-packages\\pandas\\core\\ops.py\u001b[0m in \u001b[0;36mna_op\u001b[1;34m(x, y)\u001b[0m\n\u001b[0;32m   1167\u001b[0m                     \u001b[0mresult\u001b[0m \u001b[1;33m=\u001b[0m \u001b[0mmethod\u001b[0m\u001b[1;33m(\u001b[0m\u001b[0my\u001b[0m\u001b[1;33m)\u001b[0m\u001b[1;33m\u001b[0m\u001b[0m\n\u001b[0;32m   1168\u001b[0m                 \u001b[1;32mif\u001b[0m \u001b[0mresult\u001b[0m \u001b[1;32mis\u001b[0m \u001b[0mNotImplemented\u001b[0m\u001b[1;33m:\u001b[0m\u001b[1;33m\u001b[0m\u001b[0m\n\u001b[1;32m-> 1169\u001b[1;33m                     \u001b[1;32mraise\u001b[0m \u001b[0mTypeError\u001b[0m\u001b[1;33m(\u001b[0m\u001b[1;34m\"invalid type comparison\"\u001b[0m\u001b[1;33m)\u001b[0m\u001b[1;33m\u001b[0m\u001b[0m\n\u001b[0m\u001b[0;32m   1170\u001b[0m             \u001b[1;32melse\u001b[0m\u001b[1;33m:\u001b[0m\u001b[1;33m\u001b[0m\u001b[0m\n\u001b[0;32m   1171\u001b[0m                 \u001b[0mresult\u001b[0m \u001b[1;33m=\u001b[0m \u001b[0mop\u001b[0m\u001b[1;33m(\u001b[0m\u001b[0mx\u001b[0m\u001b[1;33m,\u001b[0m \u001b[0my\u001b[0m\u001b[1;33m)\u001b[0m\u001b[1;33m\u001b[0m\u001b[0m\n",
      "\u001b[1;31mTypeError\u001b[0m: invalid type comparison"
     ]
    }
   ],
   "source": [
    "# Find the % of Charged off Loan\n",
    "Charged_off_loan =loan_df_univ.loc[loan_df_univ['loan_status'] == 'Charged Off'].loan_status.count() * 100/len(loan_df_univ)\n",
    "round(Charged_off_loan,2)"
   ]
  },
  {
   "cell_type": "markdown",
   "metadata": {},
   "source": [
    "##### From the above graph it is clear that the around 5k Charged off loan and fully Paid loan is around 30k\n",
    "\n",
    "Charge-off Loan: A charge-off is a debt that is deemed unlikely to be collected by the credit\n",
    "</br>Fully Paid Loan: The return of funds happens through periodic payments which include both principal and interest."
   ]
  },
  {
   "cell_type": "code",
   "execution_count": 181,
   "metadata": {},
   "outputs": [
    {
     "ename": "TypeError",
     "evalue": "unsupported operand type(s) for /: 'float' and 'str'",
     "output_type": "error",
     "traceback": [
      "\u001b[1;31m---------------------------------------------------------------------------\u001b[0m",
      "\u001b[1;31mTypeError\u001b[0m                                 Traceback (most recent call last)",
      "\u001b[1;32m~\\Anaconda3\\lib\\site-packages\\pandas\\core\\ops.py\u001b[0m in \u001b[0;36mna_op\u001b[1;34m(x, y)\u001b[0m\n\u001b[0;32m   1011\u001b[0m         \u001b[1;32mtry\u001b[0m\u001b[1;33m:\u001b[0m\u001b[1;33m\u001b[0m\u001b[0m\n\u001b[1;32m-> 1012\u001b[1;33m             \u001b[0mresult\u001b[0m \u001b[1;33m=\u001b[0m \u001b[0mexpressions\u001b[0m\u001b[1;33m.\u001b[0m\u001b[0mevaluate\u001b[0m\u001b[1;33m(\u001b[0m\u001b[0mop\u001b[0m\u001b[1;33m,\u001b[0m \u001b[0mstr_rep\u001b[0m\u001b[1;33m,\u001b[0m \u001b[0mx\u001b[0m\u001b[1;33m,\u001b[0m \u001b[0my\u001b[0m\u001b[1;33m,\u001b[0m \u001b[1;33m**\u001b[0m\u001b[0meval_kwargs\u001b[0m\u001b[1;33m)\u001b[0m\u001b[1;33m\u001b[0m\u001b[0m\n\u001b[0m\u001b[0;32m   1013\u001b[0m         \u001b[1;32mexcept\u001b[0m \u001b[0mTypeError\u001b[0m\u001b[1;33m:\u001b[0m\u001b[1;33m\u001b[0m\u001b[0m\n",
      "\u001b[1;32m~\\Anaconda3\\lib\\site-packages\\pandas\\core\\computation\\expressions.py\u001b[0m in \u001b[0;36mevaluate\u001b[1;34m(op, op_str, a, b, use_numexpr, **eval_kwargs)\u001b[0m\n\u001b[0;32m    204\u001b[0m     \u001b[1;32mif\u001b[0m \u001b[0muse_numexpr\u001b[0m\u001b[1;33m:\u001b[0m\u001b[1;33m\u001b[0m\u001b[0m\n\u001b[1;32m--> 205\u001b[1;33m         \u001b[1;32mreturn\u001b[0m \u001b[0m_evaluate\u001b[0m\u001b[1;33m(\u001b[0m\u001b[0mop\u001b[0m\u001b[1;33m,\u001b[0m \u001b[0mop_str\u001b[0m\u001b[1;33m,\u001b[0m \u001b[0ma\u001b[0m\u001b[1;33m,\u001b[0m \u001b[0mb\u001b[0m\u001b[1;33m,\u001b[0m \u001b[1;33m**\u001b[0m\u001b[0meval_kwargs\u001b[0m\u001b[1;33m)\u001b[0m\u001b[1;33m\u001b[0m\u001b[0m\n\u001b[0m\u001b[0;32m    206\u001b[0m     \u001b[1;32mreturn\u001b[0m \u001b[0m_evaluate_standard\u001b[0m\u001b[1;33m(\u001b[0m\u001b[0mop\u001b[0m\u001b[1;33m,\u001b[0m \u001b[0mop_str\u001b[0m\u001b[1;33m,\u001b[0m \u001b[0ma\u001b[0m\u001b[1;33m,\u001b[0m \u001b[0mb\u001b[0m\u001b[1;33m)\u001b[0m\u001b[1;33m\u001b[0m\u001b[0m\n",
      "\u001b[1;32m~\\Anaconda3\\lib\\site-packages\\pandas\\core\\computation\\expressions.py\u001b[0m in \u001b[0;36m_evaluate_numexpr\u001b[1;34m(op, op_str, a, b, truediv, reversed, **eval_kwargs)\u001b[0m\n\u001b[0;32m    119\u001b[0m     \u001b[1;32mif\u001b[0m \u001b[0mresult\u001b[0m \u001b[1;32mis\u001b[0m \u001b[1;32mNone\u001b[0m\u001b[1;33m:\u001b[0m\u001b[1;33m\u001b[0m\u001b[0m\n\u001b[1;32m--> 120\u001b[1;33m         \u001b[0mresult\u001b[0m \u001b[1;33m=\u001b[0m \u001b[0m_evaluate_standard\u001b[0m\u001b[1;33m(\u001b[0m\u001b[0mop\u001b[0m\u001b[1;33m,\u001b[0m \u001b[0mop_str\u001b[0m\u001b[1;33m,\u001b[0m \u001b[0ma\u001b[0m\u001b[1;33m,\u001b[0m \u001b[0mb\u001b[0m\u001b[1;33m)\u001b[0m\u001b[1;33m\u001b[0m\u001b[0m\n\u001b[0m\u001b[0;32m    121\u001b[0m \u001b[1;33m\u001b[0m\u001b[0m\n",
      "\u001b[1;32m~\\Anaconda3\\lib\\site-packages\\pandas\\core\\computation\\expressions.py\u001b[0m in \u001b[0;36m_evaluate_standard\u001b[1;34m(op, op_str, a, b, **eval_kwargs)\u001b[0m\n\u001b[0;32m     64\u001b[0m     \u001b[1;32mwith\u001b[0m \u001b[0mnp\u001b[0m\u001b[1;33m.\u001b[0m\u001b[0merrstate\u001b[0m\u001b[1;33m(\u001b[0m\u001b[0mall\u001b[0m\u001b[1;33m=\u001b[0m\u001b[1;34m'ignore'\u001b[0m\u001b[1;33m)\u001b[0m\u001b[1;33m:\u001b[0m\u001b[1;33m\u001b[0m\u001b[0m\n\u001b[1;32m---> 65\u001b[1;33m         \u001b[1;32mreturn\u001b[0m \u001b[0mop\u001b[0m\u001b[1;33m(\u001b[0m\u001b[0ma\u001b[0m\u001b[1;33m,\u001b[0m \u001b[0mb\u001b[0m\u001b[1;33m)\u001b[0m\u001b[1;33m\u001b[0m\u001b[0m\n\u001b[0m\u001b[0;32m     66\u001b[0m \u001b[1;33m\u001b[0m\u001b[0m\n",
      "\u001b[1;31mTypeError\u001b[0m: unsupported operand type(s) for /: 'float' and 'str'",
      "\nDuring handling of the above exception, another exception occurred:\n",
      "\u001b[1;31mTypeError\u001b[0m                                 Traceback (most recent call last)",
      "\u001b[1;32m<ipython-input-181-789f30d275e9>\u001b[0m in \u001b[0;36m<module>\u001b[1;34m()\u001b[0m\n\u001b[1;32m----> 1\u001b[1;33m \u001b[0mround\u001b[0m\u001b[1;33m(\u001b[0m\u001b[1;36m100\u001b[0m\u001b[1;33m*\u001b[0m \u001b[0mloan_df_univ\u001b[0m\u001b[1;33m.\u001b[0m\u001b[0mgroupby\u001b[0m\u001b[1;33m(\u001b[0m\u001b[1;34m'loan_status'\u001b[0m\u001b[1;33m)\u001b[0m\u001b[1;33m.\u001b[0m\u001b[0mtotal_pymnt\u001b[0m\u001b[1;33m.\u001b[0m\u001b[0msum\u001b[0m\u001b[1;33m(\u001b[0m\u001b[1;33m)\u001b[0m\u001b[1;33m/\u001b[0m \u001b[0mloan_df_univ\u001b[0m\u001b[1;33m.\u001b[0m\u001b[0mgroupby\u001b[0m\u001b[1;33m(\u001b[0m\u001b[1;34m'loan_status'\u001b[0m\u001b[1;33m)\u001b[0m\u001b[1;33m.\u001b[0m\u001b[0mloan_amnt\u001b[0m\u001b[1;33m.\u001b[0m\u001b[0msum\u001b[0m\u001b[1;33m(\u001b[0m\u001b[1;33m)\u001b[0m\u001b[1;33m,\u001b[0m\u001b[1;36m2\u001b[0m\u001b[1;33m)\u001b[0m\u001b[1;33m\u001b[0m\u001b[0m\n\u001b[0m",
      "\u001b[1;32m~\\Anaconda3\\lib\\site-packages\\pandas\\core\\ops.py\u001b[0m in \u001b[0;36mwrapper\u001b[1;34m(left, right)\u001b[0m\n\u001b[0;32m   1067\u001b[0m             \u001b[0mrvalues\u001b[0m \u001b[1;33m=\u001b[0m \u001b[0mrvalues\u001b[0m\u001b[1;33m.\u001b[0m\u001b[0mvalues\u001b[0m\u001b[1;33m\u001b[0m\u001b[0m\n\u001b[0;32m   1068\u001b[0m \u001b[1;33m\u001b[0m\u001b[0m\n\u001b[1;32m-> 1069\u001b[1;33m         \u001b[0mresult\u001b[0m \u001b[1;33m=\u001b[0m \u001b[0msafe_na_op\u001b[0m\u001b[1;33m(\u001b[0m\u001b[0mlvalues\u001b[0m\u001b[1;33m,\u001b[0m \u001b[0mrvalues\u001b[0m\u001b[1;33m)\u001b[0m\u001b[1;33m\u001b[0m\u001b[0m\n\u001b[0m\u001b[0;32m   1070\u001b[0m         return construct_result(left, result,\n\u001b[0;32m   1071\u001b[0m                                 index=left.index, name=res_name, dtype=None)\n",
      "\u001b[1;32m~\\Anaconda3\\lib\\site-packages\\pandas\\core\\ops.py\u001b[0m in \u001b[0;36msafe_na_op\u001b[1;34m(lvalues, rvalues)\u001b[0m\n\u001b[0;32m   1031\u001b[0m         \u001b[1;32mtry\u001b[0m\u001b[1;33m:\u001b[0m\u001b[1;33m\u001b[0m\u001b[0m\n\u001b[0;32m   1032\u001b[0m             \u001b[1;32mwith\u001b[0m \u001b[0mnp\u001b[0m\u001b[1;33m.\u001b[0m\u001b[0merrstate\u001b[0m\u001b[1;33m(\u001b[0m\u001b[0mall\u001b[0m\u001b[1;33m=\u001b[0m\u001b[1;34m'ignore'\u001b[0m\u001b[1;33m)\u001b[0m\u001b[1;33m:\u001b[0m\u001b[1;33m\u001b[0m\u001b[0m\n\u001b[1;32m-> 1033\u001b[1;33m                 \u001b[1;32mreturn\u001b[0m \u001b[0mna_op\u001b[0m\u001b[1;33m(\u001b[0m\u001b[0mlvalues\u001b[0m\u001b[1;33m,\u001b[0m \u001b[0mrvalues\u001b[0m\u001b[1;33m)\u001b[0m\u001b[1;33m\u001b[0m\u001b[0m\n\u001b[0m\u001b[0;32m   1034\u001b[0m         \u001b[1;32mexcept\u001b[0m \u001b[0mException\u001b[0m\u001b[1;33m:\u001b[0m\u001b[1;33m\u001b[0m\u001b[0m\n\u001b[0;32m   1035\u001b[0m             \u001b[1;32mif\u001b[0m \u001b[0mis_object_dtype\u001b[0m\u001b[1;33m(\u001b[0m\u001b[0mlvalues\u001b[0m\u001b[1;33m)\u001b[0m\u001b[1;33m:\u001b[0m\u001b[1;33m\u001b[0m\u001b[0m\n",
      "\u001b[1;32m~\\Anaconda3\\lib\\site-packages\\pandas\\core\\ops.py\u001b[0m in \u001b[0;36mna_op\u001b[1;34m(x, y)\u001b[0m\n\u001b[0;32m   1016\u001b[0m                 \u001b[0mresult\u001b[0m \u001b[1;33m=\u001b[0m \u001b[0mnp\u001b[0m\u001b[1;33m.\u001b[0m\u001b[0mempty\u001b[0m\u001b[1;33m(\u001b[0m\u001b[0mx\u001b[0m\u001b[1;33m.\u001b[0m\u001b[0msize\u001b[0m\u001b[1;33m,\u001b[0m \u001b[0mdtype\u001b[0m\u001b[1;33m=\u001b[0m\u001b[0mdtype\u001b[0m\u001b[1;33m)\u001b[0m\u001b[1;33m\u001b[0m\u001b[0m\n\u001b[0;32m   1017\u001b[0m                 \u001b[0mmask\u001b[0m \u001b[1;33m=\u001b[0m \u001b[0mnotna\u001b[0m\u001b[1;33m(\u001b[0m\u001b[0mx\u001b[0m\u001b[1;33m)\u001b[0m \u001b[1;33m&\u001b[0m \u001b[0mnotna\u001b[0m\u001b[1;33m(\u001b[0m\u001b[0my\u001b[0m\u001b[1;33m)\u001b[0m\u001b[1;33m\u001b[0m\u001b[0m\n\u001b[1;32m-> 1018\u001b[1;33m                 \u001b[0mresult\u001b[0m\u001b[1;33m[\u001b[0m\u001b[0mmask\u001b[0m\u001b[1;33m]\u001b[0m \u001b[1;33m=\u001b[0m \u001b[0mop\u001b[0m\u001b[1;33m(\u001b[0m\u001b[0mx\u001b[0m\u001b[1;33m[\u001b[0m\u001b[0mmask\u001b[0m\u001b[1;33m]\u001b[0m\u001b[1;33m,\u001b[0m \u001b[0mcom\u001b[0m\u001b[1;33m.\u001b[0m\u001b[0m_values_from_object\u001b[0m\u001b[1;33m(\u001b[0m\u001b[0my\u001b[0m\u001b[1;33m[\u001b[0m\u001b[0mmask\u001b[0m\u001b[1;33m]\u001b[0m\u001b[1;33m)\u001b[0m\u001b[1;33m)\u001b[0m\u001b[1;33m\u001b[0m\u001b[0m\n\u001b[0m\u001b[0;32m   1019\u001b[0m             \u001b[1;32melse\u001b[0m\u001b[1;33m:\u001b[0m\u001b[1;33m\u001b[0m\u001b[0m\n\u001b[0;32m   1020\u001b[0m                 \u001b[1;32massert\u001b[0m \u001b[0misinstance\u001b[0m\u001b[1;33m(\u001b[0m\u001b[0mx\u001b[0m\u001b[1;33m,\u001b[0m \u001b[0mnp\u001b[0m\u001b[1;33m.\u001b[0m\u001b[0mndarray\u001b[0m\u001b[1;33m)\u001b[0m\u001b[1;33m\u001b[0m\u001b[0m\n",
      "\u001b[1;31mTypeError\u001b[0m: unsupported operand type(s) for /: 'float' and 'str'"
     ]
    }
   ],
   "source": [
    "round(100* loan_df_univ.groupby('loan_status').total_pymnt.sum()/ loan_df_univ.groupby('loan_status').loan_amnt.sum(),2)"
   ]
  },
  {
   "cell_type": "code",
   "execution_count": 182,
   "metadata": {},
   "outputs": [],
   "source": [
    "#Function to show percentage in graph\n",
    "def percentage(ax):\n",
    "    for p in ax.patches:\n",
    "        width, height = p.get_width(), p.get_height()\n",
    "        x, y = p.get_xy() \n",
    "        height = round(height,2)\n",
    "        ax.annotate('{}%'.format(height), (x, y + height + 0.01))\n"
   ]
  },
  {
   "cell_type": "code",
   "execution_count": 183,
   "metadata": {},
   "outputs": [
    {
     "data": {
      "image/png": "[encoded data removed]",
      "text/plain": [
       "<matplotlib.figure.Figure at 0xdafe310>"
      ]
     },
     "metadata": {},
     "output_type": "display_data"
    }
   ],
   "source": [
    "plt.figure(figsize=(5,7))\n",
    "ax = (100* loan_df_final.groupby('loan_status').total_pymnt.sum()/ loan_df_final.groupby('loan_status').loan_amnt.sum()).plot.bar()\n",
    "plt.ylabel('% of Loan Recovered', fontsize = 15)\n",
    "percentage(ax)\n",
    "plt.show()"
   ]
  },
  {
   "cell_type": "markdown",
   "metadata": {},
   "source": [
    "#### From graph It is clear that 57.13% of loan Recovered."
   ]
  },
  {
   "cell_type": "code",
   "execution_count": 104,
   "metadata": {},
   "outputs": [
    {
     "data": {
      "text/plain": [
       "loan_status\n",
       "Charged Off     57.127471\n",
       "Current        128.363180\n",
       "Fully Paid     117.242294\n",
       "dtype: float64"
      ]
     },
     "execution_count": 104,
     "metadata": {},
     "output_type": "execute_result"
    }
   ],
   "source": [
    "loan_df_univ.groupby('loan_status').total_pymnt.sum() * 100 / loan_df_univ.groupby('loan_status').loan_amnt.sum()"
   ]
  },
  {
   "cell_type": "markdown",
   "metadata": {},
   "source": [
    "##### Let us plot barplots to see default rate across variable \"grade\""
   ]
  },
  {
   "cell_type": "code",
   "execution_count": 105,
   "metadata": {
    "collapsed": false
   },
   "outputs": [],
   "source": [
    "# Resetting the values, Fully Paid with '0' and Charged Off with \"1\"\n",
    "loan_df_univ['loan_status'] = loan_df_univ['loan_status'].apply(lambda x: 0 if x == 'Fully Paid' else 1)\n",
    "loan_df_univ.to_csv('master_file.csv')"
   ]
  },
  {
   "cell_type": "code",
   "execution_count": 106,
   "metadata": {},
   "outputs": [
    {
     "data": {
      "image/png": "[encoded data removed]",
      "text/plain": [
       "<matplotlib.figure.Figure at 0xbb9fc30>"
      ]
     },
     "metadata": {},
     "output_type": "display_data"
    }
   ],
   "source": [
    "# Plot the default rate against \"grade\" variable of the dataframe\n",
    "#See the pattern of loan status vs grade\n",
    "ax = (100 * loan_df_univ.groupby('grade').loan_status.count()/loan_df_univ.loan_status.count()).plot.bar()\n",
    "percentage(ax)\n",
    "plt.xlabel('Grade of the loan')\n",
    "plt.ylabel('% loan')\n",
    "plt.show()"
   ]
  },
  {
   "cell_type": "code",
   "execution_count": 107,
   "metadata": {},
   "outputs": [
    {
     "data": {
      "image/png": "[encoded data removed]",
      "text/plain": [
       "<matplotlib.figure.Figure at 0xb664830>"
      ]
     },
     "metadata": {},
     "output_type": "display_data"
    }
   ],
   "source": [
    "#Draw the loan patter of default\n",
    "ax = (loan_df_univ[loan_df_univ.loan_status == 1].groupby('grade').loan_status.sum()/loan_df_univ[loan_df_univ.loan_status==1].loan_status.sum() * 100).plot.bar()\n",
    "percentage(ax)\n",
    "plt.xlabel('Grade of the loan')\n",
    "plt.ylabel('% Charged off loan')\n",
    "plt.show()"
   ]
  },
  {
   "cell_type": "code",
   "execution_count": 188,
   "metadata": {},
   "outputs": [
    {
     "data": {
      "image/png": "[encoded data removed]",
      "text/plain": [
       "<matplotlib.figure.Figure at 0x19db8b0>"
      ]
     },
     "metadata": {},
     "output_type": "display_data"
    }
   ],
   "source": [
    "ax = sns.barplot(x='grade', y='loan_status', data = loan_df_univ)\n",
    "plt.show()"
   ]
  },
  {
   "cell_type": "markdown",
   "metadata": {},
   "source": [
    "##### It is evident from the plot that as the grade of loan goes from A to G, the default rate increases. This is expected because the grade is decided by Lending Club based on the risk nature of the loan."
   ]
  },
  {
   "cell_type": "markdown",
   "metadata": {},
   "source": [
    "##### Let us plot barplots to see default rate across variable \"sub-grade\""
   ]
  },
  {
   "cell_type": "code",
   "execution_count": 109,
   "metadata": {
    "collapsed": false
   },
   "outputs": [
    {
     "data": {
      "image/png": "[encoded data removed]",
      "text/plain": [
       "<matplotlib.figure.Figure at 0xb9bc830>"
      ]
     },
     "metadata": {},
     "output_type": "display_data"
    }
   ],
   "source": [
    "# Plot the default rate against \"sub-grade\" variable of the dataframe\n",
    "plt.figure(figsize=(16, 6))\n",
    "sns.barplot(x='sub_grade', y='loan_status', data=loan_df_univ)\n",
    "plt.xlabel('Sub Grade', fontsize = 15)\n",
    "plt.ylabel('Loan Status', fontsize = 15)\n",
    "plt.show()"
   ]
  },
  {
   "cell_type": "markdown",
   "metadata": {},
   "source": [
    "##### It is evident from the plot that as the sub_grade of loan goes from A1 to A2, A2 to A3, A3 to A4 and A4 to A5, the default rate increases. This is expected because the sub_grade is also decided by Lending Club based on the riskiness of the loan."
   ]
  },
  {
   "cell_type": "markdown",
   "metadata": {},
   "source": [
    "##### Let us plot barplots to see default rate across variable \"term\""
   ]
  },
  {
   "cell_type": "code",
   "execution_count": 110,
   "metadata": {
    "collapsed": false
   },
   "outputs": [
    {
     "data": {
      "image/png": "[encoded data removed]",
      "text/plain": [
       "<matplotlib.figure.Figure at 0x175ed70>"
      ]
     },
     "metadata": {},
     "output_type": "display_data"
    }
   ],
   "source": [
    "# Plot the default rate against \"term\" variable of the dataframe\n",
    "sns.barplot(x='term', y='loan_status', data=loan_df_univ)\n",
    "plt.xlabel('Term of the loan (in Months)', fontsize = 15)\n",
    "plt.ylabel('Loan Status', fontsize = 15)\n",
    "plt.show()"
   ]
  },
  {
   "cell_type": "markdown",
   "metadata": {},
   "source": [
    "##### It clearly shows that loan taken for a longer term which is 60 months is a stronger candidate for default."
   ]
  },
  {
   "cell_type": "code",
   "execution_count": 111,
   "metadata": {},
   "outputs": [
    {
     "data": {
      "image/png": "[encoded data removed]",
      "text/plain": [
       "<matplotlib.figure.Figure at 0x3735830>"
      ]
     },
     "metadata": {},
     "output_type": "display_data"
    }
   ],
   "source": [
    "# Plot the default rate against \"emp_length\" variable of the dataframe\n",
    "sns.countplot(x='emp_length', data=loan_df_univ, order=sorted(loan_df_univ.emp_length.unique()))\n",
    "plt.xlabel('Employement Length (in Years)', fontsize = 15)\n",
    "plt.ylabel('Loan Status', fontsize = 15)\n",
    "plt.show()"
   ]
  },
  {
   "cell_type": "markdown",
   "metadata": {},
   "source": [
    "Most of the people having employement length greater than 10 years."
   ]
  },
  {
   "cell_type": "markdown",
   "metadata": {},
   "source": [
    "##### Let us plot barplots to see default rate across variable \"home_ownership\""
   ]
  },
  {
   "cell_type": "code",
   "execution_count": 112,
   "metadata": {
    "collapsed": false
   },
   "outputs": [
    {
     "data": {
      "image/png": "[encoded data removed]",
      "text/plain": [
       "<matplotlib.figure.Figure at 0x3735e50>"
      ]
     },
     "metadata": {},
     "output_type": "display_data"
    }
   ],
   "source": [
    "# Plot the default rate against \"home_ownership\" variable of the dataframe\n",
    "sns.barplot(x='home_ownership', y='loan_status', data=loan_df_univ)\n",
    "plt.xlabel('Type of Home Ownership', fontsize = 15)\n",
    "plt.ylabel('Loan Status', fontsize = 15)\n",
    "plt.show()"
   ]
  },
  {
   "cell_type": "markdown",
   "metadata": {},
   "source": [
    "##### This does not give any clear indication as its same across all differnt types"
   ]
  },
  {
   "cell_type": "markdown",
   "metadata": {},
   "source": [
    "##### Purpose of the loan clearly indicates as to why the borrower has applied for the loan. Let us see which of the loan types has greatest risk of being defaulted"
   ]
  },
  {
   "cell_type": "code",
   "execution_count": 113,
   "metadata": {
    "collapsed": false
   },
   "outputs": [
    {
     "data": {
      "image/png": "[encoded data removed]",
      "text/plain": [
       "<matplotlib.figure.Figure at 0x376f0f0>"
      ]
     },
     "metadata": {},
     "output_type": "display_data"
    }
   ],
   "source": [
    "# Plot the default rate against \"purpose\" variable of the dataframe\n",
    "plt.figure(figsize=(16, 6))\n",
    "sns.barplot(x='purpose', y='loan_status', data=loan_df_univ)\n",
    "plt.xlabel('Purpose of the loan', fontsize = 15)\n",
    "plt.ylabel('Loan Status', fontsize = 15)\n",
    "plt.show()"
   ]
  },
  {
   "cell_type": "markdown",
   "metadata": {},
   "source": [
    "##### From the above graph, we can see that the following \"purpose\" are the ones which is strongest contender of being defaulted\n",
    "##### 1. small_business\n",
    "##### 2. renewable_energy\n",
    "##### 3. educational"
   ]
  },
  {
   "cell_type": "markdown",
   "metadata": {},
   "source": [
    "##### Let us plot barplots to see default rate across variable \"verification_status\""
   ]
  },
  {
   "cell_type": "code",
   "execution_count": 114,
   "metadata": {
    "collapsed": false
   },
   "outputs": [
    {
     "data": {
      "image/png": "[encoded data removed]",
      "text/plain": [
       "<matplotlib.figure.Figure at 0x373d670>"
      ]
     },
     "metadata": {},
     "output_type": "display_data"
    }
   ],
   "source": [
    "# Plot the default rate against \"verification_status\" variable of the dataframe\n",
    "sns.barplot(x='verification_status', y='loan_status', data=loan_df_univ)\n",
    "plt.xlabel('Verification Status', fontsize = 15)\n",
    "plt.ylabel('Loan Status', fontsize = 15)\n",
    "plt.show()"
   ]
  },
  {
   "cell_type": "markdown",
   "metadata": {},
   "source": [
    "##### It clearly indicates that Verified loans default more than non-verfied loans"
   ]
  },
  {
   "cell_type": "markdown",
   "metadata": {},
   "source": [
    "##### Now let us see what is the relation between default loans and year it was issued"
   ]
  },
  {
   "cell_type": "code",
   "execution_count": 115,
   "metadata": {
    "collapsed": false
   },
   "outputs": [
    {
     "data": {
      "image/png": "[encoded data removed]",
      "text/plain": [
       "<matplotlib.figure.Figure at 0x3859190>"
      ]
     },
     "metadata": {},
     "output_type": "display_data"
    }
   ],
   "source": [
    "# Plot the default rate against \"issue_d_year\" variable of the dataframe\n",
    "sns.barplot(x='issue_d_year', y='loan_status', data=loan_df_univ)\n",
    "plt.xlabel('Loan Issue Year', fontsize = 15)\n",
    "plt.ylabel('Loan Status', fontsize = 15)\n",
    "plt.show()"
   ]
  },
  {
   "cell_type": "markdown",
   "metadata": {},
   "source": [
    "##### Loans issued in 2007 has the highest default rate. The default rate was decreasing after that but again started increasing in 2011"
   ]
  },
  {
   "cell_type": "markdown",
   "metadata": {},
   "source": [
    "##### Now let us compare the default rate with the issuing month"
   ]
  },
  {
   "cell_type": "code",
   "execution_count": 116,
   "metadata": {
    "collapsed": false
   },
   "outputs": [
    {
     "data": {
      "image/png": "[encoded data removed]",
      "text/plain": [
       "<matplotlib.figure.Figure at 0x737dc70>"
      ]
     },
     "metadata": {},
     "output_type": "display_data"
    }
   ],
   "source": [
    "# Plot the default rate against \"issue_d_month\" variable of the dataframe\n",
    "plt.figure(figsize=(16, 6))\n",
    "sns.barplot(x='issue_d_month', y='loan_status', data=loan_df_univ)\n",
    "plt.xlabel('Loan Issue Month', fontsize = 15)\n",
    "plt.ylabel('Loan Status', fontsize = 15)\n",
    "plt.show()"
   ]
  },
  {
   "cell_type": "markdown",
   "metadata": {},
   "source": [
    "##### Not much variation across months. Loans issued in May and December has higher default rate"
   ]
  },
  {
   "cell_type": "markdown",
   "metadata": {},
   "source": [
    "#### Data Analysis - Univariate analysis across continuous variables"
   ]
  },
  {
   "cell_type": "markdown",
   "metadata": {},
   "source": [
    "##### Let us now analyse as to how the default rate varies across continuous variables. This would require us to bin the variables into discreate categories."
   ]
  },
  {
   "cell_type": "markdown",
   "metadata": {},
   "source": [
    "##### Let us first see the plot for loan_amount"
   ]
  },
  {
   "cell_type": "code",
   "execution_count": 117,
   "metadata": {
    "collapsed": false
   },
   "outputs": [
    {
     "data": {
      "image/png": "[encoded data removed]",
      "text/plain": [
       "<matplotlib.figure.Figure at 0x37bb4b0>"
      ]
     },
     "metadata": {},
     "output_type": "display_data"
    }
   ],
   "source": [
    "# Plot the default rate against \"loan_amnt\" variable of the dataframe\n",
    "sns.distplot(loan_df_univ['loan_amnt'])\n",
    "plt.show()"
   ]
  },
  {
   "cell_type": "code",
   "execution_count": 118,
   "metadata": {},
   "outputs": [
    {
     "data": {
      "text/html": [
       "<div>\n",
       "<style scoped>\n",
       "    .dataframe tbody tr th:only-of-type {\n",
       "        vertical-align: middle;\n",
       "    }\n",
       "\n",
       "    .dataframe tbody tr th {\n",
       "        vertical-align: top;\n",
       "    }\n",
       "\n",
       "    .dataframe thead th {\n",
       "        text-align: right;\n",
       "    }\n",
       "</style>\n",
       "<table border=\"1\" class=\"dataframe\">\n",
       "  <thead>\n",
       "    <tr style=\"text-align: right;\">\n",
       "      <th></th>\n",
       "      <th>count</th>\n",
       "      <th>mean</th>\n",
       "      <th>std</th>\n",
       "      <th>min</th>\n",
       "      <th>25%</th>\n",
       "      <th>50%</th>\n",
       "      <th>75%</th>\n",
       "      <th>max</th>\n",
       "    </tr>\n",
       "    <tr>\n",
       "      <th>loan_status</th>\n",
       "      <th></th>\n",
       "      <th></th>\n",
       "      <th></th>\n",
       "      <th></th>\n",
       "      <th></th>\n",
       "      <th></th>\n",
       "      <th></th>\n",
       "      <th></th>\n",
       "    </tr>\n",
       "  </thead>\n",
       "  <tbody>\n",
       "    <tr>\n",
       "      <th>Charged Off</th>\n",
       "      <td>4943.0</td>\n",
       "      <td>12286.147077</td>\n",
       "      <td>8064.255961</td>\n",
       "      <td>1000.0</td>\n",
       "      <td>6000.0</td>\n",
       "      <td>10000.0</td>\n",
       "      <td>17000.0</td>\n",
       "      <td>35000.0</td>\n",
       "    </tr>\n",
       "    <tr>\n",
       "      <th>Fully Paid</th>\n",
       "      <td>30424.0</td>\n",
       "      <td>10945.731166</td>\n",
       "      <td>7181.867451</td>\n",
       "      <td>500.0</td>\n",
       "      <td>5500.0</td>\n",
       "      <td>9600.0</td>\n",
       "      <td>15000.0</td>\n",
       "      <td>35000.0</td>\n",
       "    </tr>\n",
       "  </tbody>\n",
       "</table>\n",
       "</div>"
      ],
      "text/plain": [
       "               count          mean          std     min     25%      50%  \\\n",
       "loan_status                                                                \n",
       "Charged Off   4943.0  12286.147077  8064.255961  1000.0  6000.0  10000.0   \n",
       "Fully Paid   30424.0  10945.731166  7181.867451   500.0  5500.0   9600.0   \n",
       "\n",
       "                 75%      max  \n",
       "loan_status                    \n",
       "Charged Off  17000.0  35000.0  \n",
       "Fully Paid   15000.0  35000.0  "
      ]
     },
     "execution_count": 118,
     "metadata": {},
     "output_type": "execute_result"
    }
   ],
   "source": [
    "loan_df_final.groupby('loan_status')['loan_amnt'].describe()"
   ]
  },
  {
   "cell_type": "markdown",
   "metadata": {},
   "source": [
    "#### Observation:\n",
    "1. Mean of the Charged off loan amount is around 12K which is 2k higher than Paid-off Loan.\n",
    "2. Most of the loan approved was around 15k"
   ]
  },
  {
   "cell_type": "code",
   "execution_count": 119,
   "metadata": {},
   "outputs": [],
   "source": [
    "#Create a derived variable to see the loan status distribution vs loan amount\n",
    "loan_df_univ['loan_amnt_dis'] = pd.cut(loan_df_univ['loan_amnt'], \n",
    "                                      [x for x in range(0, 36000, 5000)], labels=[str(x)+'-'+str(x+5)+'k' for x in range (0, 35, 5)])"
   ]
  },
  {
   "cell_type": "code",
   "execution_count": 120,
   "metadata": {},
   "outputs": [
    {
     "data": {
      "text/plain": [
       "<matplotlib.axes._subplots.AxesSubplot at 0x381a890>"
      ]
     },
     "execution_count": 120,
     "metadata": {},
     "output_type": "execute_result"
    },
    {
     "data": {
      "image/png": "[encoded data removed]",
      "text/plain": [
       "<matplotlib.figure.Figure at 0xb9d61f0>"
      ]
     },
     "metadata": {},
     "output_type": "display_data"
    }
   ],
   "source": [
    "sns.barplot(x='loan_amnt_dis', y='loan_status', data=loan_df_univ)"
   ]
  },
  {
   "cell_type": "markdown",
   "metadata": {},
   "source": [
    "##### Let us categorize the loan_amnt into below categories:\n",
    "###### **1. < 5000: Below 5000**\n",
    "###### **2. Between 5000 and 15000: 5000 - 15000**\n",
    "###### **3. Between 15000 and 25000: 15000 - 25000**\n",
    "###### **4. > 25000: Above 25000**"
   ]
  },
  {
   "cell_type": "code",
   "execution_count": 121,
   "metadata": {
    "collapsed": false
   },
   "outputs": [],
   "source": [
    "# Categorizing loan amount\n",
    "def loan_amount(n):\n",
    "    if n < 5000:\n",
    "        return '< 5000'\n",
    "    elif n >=5000 and n < 15000:\n",
    "        return '5000-15000'\n",
    "    elif n >= 15000 and n < 25000:\n",
    "        return '15000-25000'\n",
    "    else:\n",
    "        return '> 25000'\n",
    "\n",
    "loan_df_univ['loan_amnt'] = loan_df_univ['loan_amnt'].apply(lambda x: loan_amount(x))"
   ]
  },
  {
   "cell_type": "code",
   "execution_count": 122,
   "metadata": {
    "collapsed": false
   },
   "outputs": [
    {
     "data": {
      "text/plain": [
       "5000-15000     19461\n",
       "15000-25000     7530\n",
       "< 5000          6678\n",
       "> 25000         2764\n",
       "Name: loan_amnt, dtype: int64"
      ]
     },
     "execution_count": 122,
     "metadata": {},
     "output_type": "execute_result"
    }
   ],
   "source": [
    "loan_df_univ['loan_amnt'].value_counts()"
   ]
  },
  {
   "cell_type": "markdown",
   "metadata": {},
   "source": [
    "##### Let us compare the default rate with the loan_amnt"
   ]
  },
  {
   "cell_type": "code",
   "execution_count": 123,
   "metadata": {
    "collapsed": false
   },
   "outputs": [
    {
     "data": {
      "image/png": "[encoded data removed]",
      "text/plain": [
       "<matplotlib.figure.Figure at 0x37e8fb0>"
      ]
     },
     "metadata": {},
     "output_type": "display_data"
    }
   ],
   "source": [
    "# Plot the default rate against \"loan_amnt\" variable of the dataframe\n",
    "sns.barplot(x='loan_amnt', y='loan_status', data=loan_df_univ)\n",
    "plt.show()"
   ]
  },
  {
   "cell_type": "markdown",
   "metadata": {},
   "source": [
    "##### It is clear from the plot that higher the value of \"loan_amnt\", greater is the risk of defaulting"
   ]
  },
  {
   "cell_type": "markdown",
   "metadata": {},
   "source": [
    "##### Let us categorize the Interest Rate[int_rate] into below categories:\n",
    "##### 1. <= 10: Low\n",
    "##### 2. Between 10 and 15: Medium\n",
    "##### 3. > 15: High"
   ]
  },
  {
   "cell_type": "code",
   "execution_count": 124,
   "metadata": {
    "collapsed": false
   },
   "outputs": [],
   "source": [
    "# categorizing interest rate\n",
    "def interest_rates_calc(n):\n",
    "    if n <= 10:\n",
    "        return 'Below 10'\n",
    "    elif n > 10 and n <= 15:\n",
    "        return '10-15'\n",
    "    else:\n",
    "        return 'Above 15'\n",
    "\n",
    "loan_df_univ['int_rate'] = loan_df_univ['int_rate'].apply(lambda x: interest_rates_calc(x))"
   ]
  },
  {
   "cell_type": "markdown",
   "metadata": {},
   "source": [
    "##### Let us compare default rate with interest rates"
   ]
  },
  {
   "cell_type": "code",
   "execution_count": 125,
   "metadata": {
    "collapsed": false
   },
   "outputs": [
    {
     "data": {
      "image/png": "[encoded data removed]",
      "text/plain": [
       "<matplotlib.figure.Figure at 0x3819230>"
      ]
     },
     "metadata": {},
     "output_type": "display_data"
    }
   ],
   "source": [
    "# Plot the default rate against \"int_rate\" variable of the dataframe\n",
    "sns.barplot(x='int_rate', y='loan_status', data=loan_df_univ)\n",
    "plt.xlabel('Interest Rate')\n",
    "plt.ylabel('Loan Status')\n",
    "plt.show()"
   ]
  },
  {
   "cell_type": "markdown",
   "metadata": {},
   "source": [
    "##### It clearly indicates that loans having higher rates of interest have a high risk of defaulting more"
   ]
  },
  {
   "cell_type": "markdown",
   "metadata": {},
   "source": [
    "##### Let us compare the debt to income ratio with default rate"
   ]
  },
  {
   "cell_type": "code",
   "execution_count": 126,
   "metadata": {
    "collapsed": false
   },
   "outputs": [
    {
     "data": {
      "image/png": "[encoded data removed]",
      "text/plain": [
       "<matplotlib.figure.Figure at 0x37ac3f0>"
      ]
     },
     "metadata": {},
     "output_type": "display_data"
    }
   ],
   "source": [
    "sns.distplot(loan_df_univ['dti'])\n",
    "plt.show()"
   ]
  },
  {
   "cell_type": "markdown",
   "metadata": {},
   "source": [
    "##### As we can see above that the debt to income ratio can be broadly bategorized as below\n",
    "###### **1. Less than 10: Below 10**\n",
    "###### **2. Between 10 and 20: 10-20**\n",
    "###### **3. Above 20: Above 20**"
   ]
  },
  {
   "cell_type": "code",
   "execution_count": 127,
   "metadata": {
    "collapsed": false
   },
   "outputs": [],
   "source": [
    "# categorizing debt to income ratio\n",
    "def dti_calc(n):\n",
    "    if n <= 10:\n",
    "        return 'Below 10'\n",
    "    elif n > 10 and n <=20:\n",
    "        return '10-20'\n",
    "    else:\n",
    "        return 'Above 20'   \n",
    "\n",
    "loan_df_univ['dti'] = loan_df_univ['dti'].apply(lambda x: dti_calc(x))"
   ]
  },
  {
   "cell_type": "code",
   "execution_count": 128,
   "metadata": {
    "collapsed": false
   },
   "outputs": [
    {
     "data": {
      "image/png": "[encoded data removed]",
      "text/plain": [
       "<matplotlib.figure.Figure at 0x177fe70>"
      ]
     },
     "metadata": {},
     "output_type": "display_data"
    }
   ],
   "source": [
    "# Plot the default rate against \"dti\" variable of the dataframe\n",
    "sns.barplot(x='dti', y='loan_status', data=loan_df_univ)\n",
    "plt.show()"
   ]
  },
  {
   "cell_type": "markdown",
   "metadata": {},
   "source": [
    "##### It is clearly visible that higher debt to ratio values have higher risk of defaulting"
   ]
  },
  {
   "cell_type": "markdown",
   "metadata": {},
   "source": [
    "##### Let us find the relation between installment and defaulting"
   ]
  },
  {
   "cell_type": "code",
   "execution_count": 129,
   "metadata": {
    "collapsed": false
   },
   "outputs": [
    {
     "data": {
      "image/png": "[encoded data removed]",
      "text/plain": [
       "<matplotlib.figure.Figure at 0x1765270>"
      ]
     },
     "metadata": {},
     "output_type": "display_data"
    }
   ],
   "source": [
    "sns.distplot(loan_df_univ['installment'])\n",
    "plt.show()"
   ]
  },
  {
   "cell_type": "markdown",
   "metadata": {},
   "source": [
    "##### Let us categorize installment as below:\n",
    "###### **1. Less than 200: Below 200**\n",
    "###### **2. Between 200 and 400: 200-400**\n",
    "###### **3. Between 400 and 600: 400-600**\n",
    "###### **4. Above 600: Above 600**"
   ]
  },
  {
   "cell_type": "code",
   "execution_count": 130,
   "metadata": {
    "collapsed": false
   },
   "outputs": [],
   "source": [
    "# categorizing installment\n",
    "def installment_amount_calc(n):\n",
    "    if n <= 200:\n",
    "        return 'Below 200'\n",
    "    elif n > 200 and n <=400:\n",
    "        return '200-400'\n",
    "    elif n > 400 and n <=600:\n",
    "        return '400-600'\n",
    "    else:\n",
    "        return 'Above 600'\n",
    "    \n",
    "loan_df_univ['installment'] = loan_df_univ['installment'].apply(lambda x: installment_amount_calc(x))"
   ]
  },
  {
   "cell_type": "code",
   "execution_count": 131,
   "metadata": {
    "collapsed": false
   },
   "outputs": [
    {
     "data": {
      "image/png": "[encoded data removed]",
      "text/plain": [
       "<matplotlib.figure.Figure at 0x73b69b0>"
      ]
     },
     "metadata": {},
     "output_type": "display_data"
    }
   ],
   "source": [
    "# Plot the default rate against \"installment\" variable of the dataframe\n",
    "sns.barplot(x='installment', y='loan_status', data=loan_df_univ)\n",
    "plt.show()"
   ]
  },
  {
   "cell_type": "markdown",
   "metadata": {},
   "source": [
    "##### Installment amount hgher than 400 has high risk of defaulting"
   ]
  },
  {
   "cell_type": "markdown",
   "metadata": {},
   "source": [
    "##### Let us now compare the Employee experience with defaulting"
   ]
  },
  {
   "cell_type": "code",
   "execution_count": 132,
   "metadata": {
    "collapsed": false
   },
   "outputs": [
    {
     "data": {
      "image/png": "[encoded data removed]",
      "text/plain": [
       "<matplotlib.figure.Figure at 0xbf57130>"
      ]
     },
     "metadata": {},
     "output_type": "display_data"
    }
   ],
   "source": [
    "sns.distplot(loan_df_univ['emp_length'])\n",
    "plt.show()"
   ]
  },
  {
   "cell_type": "markdown",
   "metadata": {},
   "source": [
    "##### Let us categorize the employee years as below:\n",
    "##### 1. <= 1 Years: 'Entry Level'\n",
    "##### 2. Between 1 and 3 Years: 'Junior Level'\n",
    "##### 3. Between 3 and 7 Years: 'Senior Level'\n",
    "##### 4. Above 7 Years: 'Experinced Level'"
   ]
  },
  {
   "cell_type": "code",
   "execution_count": 133,
   "metadata": {
    "collapsed": false
   },
   "outputs": [],
   "source": [
    "# categorizing employee experience\n",
    "def employee_exp(n):\n",
    "    if n <= 1:\n",
    "        return 'Entry Level'\n",
    "    elif n > 1 and n <=3:\n",
    "        return 'Junior Level'\n",
    "    elif n > 3 and n <=7:\n",
    "        return 'Senior Level'\n",
    "    else:\n",
    "        return 'Experienced'\n",
    "\n",
    "loan_df_univ['emp_length'] = loan_df_univ['emp_length'].apply(lambda x: employee_exp(x))"
   ]
  },
  {
   "cell_type": "code",
   "execution_count": 134,
   "metadata": {
    "collapsed": false
   },
   "outputs": [
    {
     "data": {
      "image/png": "[encoded data removed]",
      "text/plain": [
       "<matplotlib.figure.Figure at 0xbf57350>"
      ]
     },
     "metadata": {},
     "output_type": "display_data"
    }
   ],
   "source": [
    "# Plot the default rate against \"emp_length\" variable of the dataframe\n",
    "sns.barplot(x='emp_length', y='loan_status', data=loan_df_univ)\n",
    "plt.show()"
   ]
  },
  {
   "cell_type": "markdown",
   "metadata": {},
   "source": [
    "##### Not much of a difference with employee experience"
   ]
  },
  {
   "cell_type": "markdown",
   "metadata": {},
   "source": [
    "#### Bivariate Analysis"
   ]
  },
  {
   "cell_type": "code",
   "execution_count": 135,
   "metadata": {},
   "outputs": [],
   "source": [
    "loan_df_biv = loan_df_final"
   ]
  },
  {
   "cell_type": "code",
   "execution_count": 136,
   "metadata": {
    "collapsed": false
   },
   "outputs": [],
   "source": [
    "# Discarding all rows except the ones for which the loan_status is either a)Fully Paid b)Charged Off\n",
    "loan_df_biv = loan_df_biv[(loan_df_biv['loan_status'] == 'Fully Paid') | (loan_df_biv['loan_status'] == 'Charged Off')]\n",
    "\n",
    "# Resetting the values, Fully Paid with '0' and Charged Off with \"1\"\n",
    "loan_df_biv['loan_status'] = loan_df_biv['loan_status'].apply(lambda x: 0 if x == 'Fully Paid' else 1)"
   ]
  },
  {
   "cell_type": "code",
   "execution_count": 137,
   "metadata": {},
   "outputs": [
    {
     "data": {
      "text/plain": [
       "count    3.536700e+04\n",
       "mean     6.909599e+04\n",
       "std      6.396705e+04\n",
       "min      4.000000e+03\n",
       "25%      4.150000e+04\n",
       "50%      6.000000e+04\n",
       "75%      8.250000e+04\n",
       "max      6.000000e+06\n",
       "Name: annual_inc, dtype: float64"
      ]
     },
     "execution_count": 137,
     "metadata": {},
     "output_type": "execute_result"
    }
   ],
   "source": [
    "loan_df_biv.annual_inc.describe()"
   ]
  },
  {
   "cell_type": "markdown",
   "metadata": {},
   "source": [
    "#### Annual Income varies from 4000 to 6000000"
   ]
  },
  {
   "cell_type": "code",
   "execution_count": 138,
   "metadata": {},
   "outputs": [
    {
     "data": {
      "text/plain": [
       "<matplotlib.axes._subplots.AxesSubplot at 0x36d7cd0>"
      ]
     },
     "execution_count": 138,
     "metadata": {},
     "output_type": "execute_result"
    },
    {
     "data": {
      "image/png": "[encoded data removed]",
      "text/plain": [
       "<matplotlib.figure.Figure at 0x17be470>"
      ]
     },
     "metadata": {},
     "output_type": "display_data"
    }
   ],
   "source": [
    "plt.figure(figsize=(10, 3))\n",
    "\n",
    "sns.boxplot(x='annual_inc', data=loan_df_biv)"
   ]
  },
  {
   "cell_type": "markdown",
   "metadata": {},
   "source": [
    "##### **Loan Amount versus Annual Income**"
   ]
  },
  {
   "cell_type": "code",
   "execution_count": 139,
   "metadata": {},
   "outputs": [
    {
     "data": {
      "image/png": "[encoded data removed]",
      "text/plain": [
       "<matplotlib.figure.Figure at 0x73b6a50>"
      ]
     },
     "metadata": {},
     "output_type": "display_data"
    }
   ],
   "source": [
    "sns.jointplot('annual_inc', 'loan_amnt', loan_df_biv.loc[loan_df_biv['annual_inc'] < 260000])\n",
    "plt.show()"
   ]
  },
  {
   "cell_type": "markdown",
   "metadata": {},
   "source": [
    "##### **Observation**\n",
    "###### **It is evident that people having lesser salary, less than 50000 and who have taken loan of 25000 and higher has a higher chance of defaulting**"
   ]
  },
  {
   "cell_type": "markdown",
   "metadata": {},
   "source": [
    "##### Loan Amount versus Grade"
   ]
  },
  {
   "cell_type": "code",
   "execution_count": 140,
   "metadata": {},
   "outputs": [
    {
     "data": {
      "image/png": "[encoded data removed]",
      "text/plain": [
       "<matplotlib.figure.Figure at 0xb5e9cf0>"
      ]
     },
     "metadata": {},
     "output_type": "display_data"
    }
   ],
   "source": [
    "loan_df_biv.boxplot(column='loan_amnt', by='grade')\n",
    "plt.show()"
   ]
  },
  {
   "cell_type": "markdown",
   "metadata": {},
   "source": [
    "###### **Observation**\n",
    "###### **The grade assigned increases in the sequence A to B, B to C, C to D, D to E, E to F, F to G as the loan amount increases. Or we can say that grade actually decreases with the increase in the loan amount**"
   ]
  },
  {
   "cell_type": "markdown",
   "metadata": {},
   "source": [
    "#### Annual Income versus Grade"
   ]
  },
  {
   "cell_type": "code",
   "execution_count": 141,
   "metadata": {},
   "outputs": [
    {
     "data": {
      "image/png": "[encoded data removed]",
      "text/plain": [
       "<matplotlib.figure.Figure at 0x7364fd0>"
      ]
     },
     "metadata": {},
     "output_type": "display_data"
    }
   ],
   "source": [
    "loan_df_biv.loc[loan_df_biv['annual_inc'] < 260000].boxplot(column='annual_inc', by='grade')\n",
    "plt.show()"
   ]
  },
  {
   "cell_type": "markdown",
   "metadata": {},
   "source": [
    "#### Interest Rate versus Sub Grade"
   ]
  },
  {
   "cell_type": "code",
   "execution_count": 142,
   "metadata": {},
   "outputs": [
    {
     "data": {
      "image/png": "[encoded data removed]",
      "text/plain": [
       "<matplotlib.figure.Figure at 0xb61d390>"
      ]
     },
     "metadata": {},
     "output_type": "display_data"
    }
   ],
   "source": [
    "loan_df_biv.boxplot(column='int_rate', by='sub_grade',figsize=(10,5))\n",
    "plt.show()"
   ]
  },
  {
   "cell_type": "markdown",
   "metadata": {},
   "source": [
    "##### **Observation**\n",
    "###### **Interest Rate increases as the sub grade decreases. The lesser the sub_gde, higher is the int_rate**"
   ]
  },
  {
   "cell_type": "markdown",
   "metadata": {},
   "source": [
    "##### Interest Rate versus Loan Status"
   ]
  },
  {
   "cell_type": "code",
   "execution_count": 143,
   "metadata": {},
   "outputs": [
    {
     "data": {
      "image/png": "[encoded data removed]",
      "text/plain": [
       "<matplotlib.figure.Figure at 0x377c4b0>"
      ]
     },
     "metadata": {},
     "output_type": "display_data"
    }
   ],
   "source": [
    "fig, ax = plt.subplots()\n",
    "fig.set_size_inches(14, 7)\n",
    "sns.boxplot(y='int_rate', x='loan_status', data=loan_df_biv)\n",
    "plt.title('Plot for Loan status versus interest rate')\n",
    "plt.ylabel('Interest rates')\n",
    "plt.show()"
   ]
  },
  {
   "cell_type": "markdown",
   "metadata": {},
   "source": [
    "##### **Observation**\n",
    "###### **Higher interest rates are likely to be charged off**"
   ]
  },
  {
   "cell_type": "markdown",
   "metadata": {},
   "source": [
    "##### Revol Util versus Interest Rate"
   ]
  },
  {
   "cell_type": "code",
   "execution_count": 144,
   "metadata": {},
   "outputs": [
    {
     "data": {
      "text/plain": [
       "<seaborn.axisgrid.JointGrid at 0x787bf30>"
      ]
     },
     "execution_count": 144,
     "metadata": {},
     "output_type": "execute_result"
    },
    {
     "data": {
      "image/png": "[encoded data removed]",
      "text/plain": [
       "<matplotlib.figure.Figure at 0x3764490>"
      ]
     },
     "metadata": {},
     "output_type": "display_data"
    }
   ],
   "source": [
    "sns.jointplot('revol_util', 'int_rate', loan_df_biv)"
   ]
  },
  {
   "cell_type": "markdown",
   "metadata": {},
   "source": [
    "##### revol util versus Grade"
   ]
  },
  {
   "cell_type": "code",
   "execution_count": 145,
   "metadata": {},
   "outputs": [
    {
     "data": {
      "text/plain": [
       "<matplotlib.figure.Figure at 0x37fac30>"
      ]
     },
     "metadata": {},
     "output_type": "display_data"
    },
    {
     "data": {
      "image/png": "[encoded data removed]",
      "text/plain": [
       "<matplotlib.figure.Figure at 0x37dde70>"
      ]
     },
     "metadata": {},
     "output_type": "display_data"
    }
   ],
   "source": [
    "plt.figure(figsize=(20,5))\n",
    "loan_df_biv.boxplot(column='revol_util', by='grade',figsize=(10,5))\n",
    "plt.show()"
   ]
  },
  {
   "cell_type": "markdown",
   "metadata": {},
   "source": [
    "##### Revol util versus Loan Amount"
   ]
  },
  {
   "cell_type": "code",
   "execution_count": 146,
   "metadata": {},
   "outputs": [
    {
     "data": {
      "text/plain": [
       "<seaborn.axisgrid.JointGrid at 0xb62da90>"
      ]
     },
     "execution_count": 146,
     "metadata": {},
     "output_type": "execute_result"
    },
    {
     "data": {
      "image/png": "[encoded data removed]",
      "text/plain": [
       "<matplotlib.figure.Figure at 0xb8ff950>"
      ]
     },
     "metadata": {},
     "output_type": "display_data"
    }
   ],
   "source": [
    "sns.jointplot('revol_util', 'loan_amnt',loan_df_biv)"
   ]
  },
  {
   "cell_type": "markdown",
   "metadata": {},
   "source": [
    "##### Loan Amount versus Interest Rate"
   ]
  },
  {
   "cell_type": "code",
   "execution_count": 147,
   "metadata": {},
   "outputs": [
    {
     "data": {
      "text/plain": [
       "<seaborn.axisgrid.JointGrid at 0x373c770>"
      ]
     },
     "execution_count": 147,
     "metadata": {},
     "output_type": "execute_result"
    },
    {
     "data": {
      "image/png": "[encoded data removed]",
      "text/plain": [
       "<matplotlib.figure.Figure at 0x73d11b0>"
      ]
     },
     "metadata": {},
     "output_type": "display_data"
    }
   ],
   "source": [
    "sns.jointplot('int_rate', 'loan_amnt', loan_df_biv)"
   ]
  },
  {
   "cell_type": "code",
   "execution_count": 148,
   "metadata": {},
   "outputs": [
    {
     "data": {
      "text/plain": [
       "<matplotlib.axes._subplots.AxesSubplot at 0x738c1d0>"
      ]
     },
     "execution_count": 148,
     "metadata": {},
     "output_type": "execute_result"
    },
    {
     "data": {
      "image/png": "[encoded data removed]",
      "text/plain": [
       "<matplotlib.figure.Figure at 0x787e630>"
      ]
     },
     "metadata": {},
     "output_type": "display_data"
    }
   ],
   "source": [
    "plt.figure(figsize=(15,15))\n",
    "cont_var= ['loan_amnt', 'int_rate', 'installment',\n",
    "       'emp_length', 'annual_inc',\n",
    "       'dti', 'delinq_2yrs', 'earliest_cr_line',\n",
    "       'inq_last_6mths', 'open_acc', 'pub_rec', 'revol_bal', 'revol_util',\n",
    "       'total_acc', 'last_pymnt_d', 'last_pymnt_amnt', 'last_credit_pull_d',\n",
    "       'pub_rec_bankruptcies']\n",
    "corr = loan_df_biv[cont_var].corr()\n",
    "sns.heatmap(corr, annot=True, center=0.5)"
   ]
  },
  {
   "cell_type": "markdown",
   "metadata": {},
   "source": [
    "##### Observation:\n",
    "##### 1.Loan amount is highly correlated with last payment amount [.45]\n",
    "##### 2.Interest Rate is highly correlated to revol_util [.47].\n",
    "##### 3.Loan amount is correlated to Revol Bal [.32]. This means that higher loans are given to riskier borrowers and is a great risk for the company."
   ]
  }
 ],
 "metadata": {
  "kernelspec": {
   "display_name": "Python 3",
   "language": "python",
   "name": "python3"
  },
  "language_info": {
   "codemirror_mode": {
    "name": "ipython",
    "version": 3
   },
   "file_extension": ".py",
   "mimetype": "text/x-python",
   "name": "python",
   "nbconvert_exporter": "python",
   "pygments_lexer": "ipython3",
   "version": "3.6.4"
  }
 },
 "nbformat": 4,
 "nbformat_minor": 2
}
